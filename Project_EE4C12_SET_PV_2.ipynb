{
 "cells": [
  {
   "cell_type": "code",
   "execution_count": 1,
   "id": "1285e679",
   "metadata": {},
   "outputs": [],
   "source": [
    "# Libraries\n",
    "import numpy as np\n",
    "import pandas as pd\n",
    "import seaborn as sn\n",
    "import matplotlib.pyplot as plt\n",
    "from sklearn.model_selection import train_test_split\n",
    "from sklearn.metrics import accuracy_score, f1_score, precision_score, recall_score, roc_curve, plot_roc_curve, confusion_matrix, plot_confusion_matrix \n",
    "from sklearn.preprocessing import StandardScaler, OneHotEncoder, LabelEncoder\n",
    "from sklearn.linear_model import LogisticRegression\n",
    "from sklearn import svm\n",
    "from sklearn.ensemble import RandomForestClassifier\n",
    "from sklearn.ensemble import BaggingClassifier"
   ]
  },
  {
   "cell_type": "markdown",
   "id": "07e00526",
   "metadata": {},
   "source": [
    "# Data Pre-processing and Feature Preparation"
   ]
  },
  {
   "cell_type": "code",
   "execution_count": 2,
   "id": "05f24e46",
   "metadata": {},
   "outputs": [
    {
     "data": {
      "text/html": [
       "<div>\n",
       "<style scoped>\n",
       "    .dataframe tbody tr th:only-of-type {\n",
       "        vertical-align: middle;\n",
       "    }\n",
       "\n",
       "    .dataframe tbody tr th {\n",
       "        vertical-align: top;\n",
       "    }\n",
       "\n",
       "    .dataframe thead th {\n",
       "        text-align: right;\n",
       "    }\n",
       "</style>\n",
       "<table border=\"1\" class=\"dataframe\">\n",
       "  <thead>\n",
       "    <tr style=\"text-align: right;\">\n",
       "      <th></th>\n",
       "      <th>Irradiance</th>\n",
       "      <th>Ambient_Temperature</th>\n",
       "      <th>Sun_Azimuth</th>\n",
       "      <th>Sun_Elevation</th>\n",
       "      <th>System_Power</th>\n",
       "      <th>System_Age</th>\n",
       "      <th>System_Status</th>\n",
       "      <th>Fault_Type</th>\n",
       "    </tr>\n",
       "  </thead>\n",
       "  <tbody>\n",
       "    <tr>\n",
       "      <th>0</th>\n",
       "      <td>713</td>\n",
       "      <td>3.8</td>\n",
       "      <td>-71.3</td>\n",
       "      <td>19.8</td>\n",
       "      <td>5000.000000</td>\n",
       "      <td>0.073277</td>\n",
       "      <td>0</td>\n",
       "      <td>0</td>\n",
       "    </tr>\n",
       "    <tr>\n",
       "      <th>1</th>\n",
       "      <td>152</td>\n",
       "      <td>2.7</td>\n",
       "      <td>-28.2</td>\n",
       "      <td>11.7</td>\n",
       "      <td>1290.467722</td>\n",
       "      <td>3.731482</td>\n",
       "      <td>0</td>\n",
       "      <td>0</td>\n",
       "    </tr>\n",
       "    <tr>\n",
       "      <th>2</th>\n",
       "      <td>75</td>\n",
       "      <td>4.5</td>\n",
       "      <td>-49.6</td>\n",
       "      <td>23.1</td>\n",
       "      <td>366.571466</td>\n",
       "      <td>0.236534</td>\n",
       "      <td>0</td>\n",
       "      <td>0</td>\n",
       "    </tr>\n",
       "    <tr>\n",
       "      <th>3</th>\n",
       "      <td>379</td>\n",
       "      <td>17.7</td>\n",
       "      <td>-46.3</td>\n",
       "      <td>45.3</td>\n",
       "      <td>2261.488687</td>\n",
       "      <td>1.720781</td>\n",
       "      <td>0</td>\n",
       "      <td>0</td>\n",
       "    </tr>\n",
       "    <tr>\n",
       "      <th>4</th>\n",
       "      <td>453</td>\n",
       "      <td>14.2</td>\n",
       "      <td>-107.2</td>\n",
       "      <td>15.9</td>\n",
       "      <td>2616.082381</td>\n",
       "      <td>0.674352</td>\n",
       "      <td>0</td>\n",
       "      <td>0</td>\n",
       "    </tr>\n",
       "    <tr>\n",
       "      <th>...</th>\n",
       "      <td>...</td>\n",
       "      <td>...</td>\n",
       "      <td>...</td>\n",
       "      <td>...</td>\n",
       "      <td>...</td>\n",
       "      <td>...</td>\n",
       "      <td>...</td>\n",
       "      <td>...</td>\n",
       "    </tr>\n",
       "    <tr>\n",
       "      <th>11995</th>\n",
       "      <td>62</td>\n",
       "      <td>10.2</td>\n",
       "      <td>-17.2</td>\n",
       "      <td>13.3</td>\n",
       "      <td>118.293683</td>\n",
       "      <td>13.476348</td>\n",
       "      <td>1</td>\n",
       "      <td>3</td>\n",
       "    </tr>\n",
       "    <tr>\n",
       "      <th>11996</th>\n",
       "      <td>114</td>\n",
       "      <td>14.8</td>\n",
       "      <td>-17.4</td>\n",
       "      <td>33.2</td>\n",
       "      <td>253.335320</td>\n",
       "      <td>4.542954</td>\n",
       "      <td>1</td>\n",
       "      <td>3</td>\n",
       "    </tr>\n",
       "    <tr>\n",
       "      <th>11997</th>\n",
       "      <td>144</td>\n",
       "      <td>6.1</td>\n",
       "      <td>41.2</td>\n",
       "      <td>6.4</td>\n",
       "      <td>526.328072</td>\n",
       "      <td>14.553955</td>\n",
       "      <td>1</td>\n",
       "      <td>3</td>\n",
       "    </tr>\n",
       "    <tr>\n",
       "      <th>11998</th>\n",
       "      <td>486</td>\n",
       "      <td>9.6</td>\n",
       "      <td>56.1</td>\n",
       "      <td>14.8</td>\n",
       "      <td>1707.208551</td>\n",
       "      <td>6.610661</td>\n",
       "      <td>1</td>\n",
       "      <td>3</td>\n",
       "    </tr>\n",
       "    <tr>\n",
       "      <th>11999</th>\n",
       "      <td>103</td>\n",
       "      <td>13.0</td>\n",
       "      <td>-29.1</td>\n",
       "      <td>18.9</td>\n",
       "      <td>201.616715</td>\n",
       "      <td>22.294729</td>\n",
       "      <td>1</td>\n",
       "      <td>3</td>\n",
       "    </tr>\n",
       "  </tbody>\n",
       "</table>\n",
       "<p>12000 rows × 8 columns</p>\n",
       "</div>"
      ],
      "text/plain": [
       "       Irradiance  Ambient_Temperature  Sun_Azimuth  Sun_Elevation  \\\n",
       "0             713                  3.8        -71.3           19.8   \n",
       "1             152                  2.7        -28.2           11.7   \n",
       "2              75                  4.5        -49.6           23.1   \n",
       "3             379                 17.7        -46.3           45.3   \n",
       "4             453                 14.2       -107.2           15.9   \n",
       "...           ...                  ...          ...            ...   \n",
       "11995          62                 10.2        -17.2           13.3   \n",
       "11996         114                 14.8        -17.4           33.2   \n",
       "11997         144                  6.1         41.2            6.4   \n",
       "11998         486                  9.6         56.1           14.8   \n",
       "11999         103                 13.0        -29.1           18.9   \n",
       "\n",
       "       System_Power  System_Age  System_Status  Fault_Type  \n",
       "0       5000.000000    0.073277              0           0  \n",
       "1       1290.467722    3.731482              0           0  \n",
       "2        366.571466    0.236534              0           0  \n",
       "3       2261.488687    1.720781              0           0  \n",
       "4       2616.082381    0.674352              0           0  \n",
       "...             ...         ...            ...         ...  \n",
       "11995    118.293683   13.476348              1           3  \n",
       "11996    253.335320    4.542954              1           3  \n",
       "11997    526.328072   14.553955              1           3  \n",
       "11998   1707.208551    6.610661              1           3  \n",
       "11999    201.616715   22.294729              1           3  \n",
       "\n",
       "[12000 rows x 8 columns]"
      ]
     },
     "execution_count": 2,
     "metadata": {},
     "output_type": "execute_result"
    }
   ],
   "source": [
    "# Import dataset\n",
    "data_orig = pd.read_csv('Project_Data_EE4C12_SET_PV.csv')\n",
    "data_orig"
   ]
  },
  {
   "cell_type": "code",
   "execution_count": 3,
   "id": "456882b8",
   "metadata": {},
   "outputs": [
    {
     "data": {
      "text/html": [
       "<div>\n",
       "<style scoped>\n",
       "    .dataframe tbody tr th:only-of-type {\n",
       "        vertical-align: middle;\n",
       "    }\n",
       "\n",
       "    .dataframe tbody tr th {\n",
       "        vertical-align: top;\n",
       "    }\n",
       "\n",
       "    .dataframe thead th {\n",
       "        text-align: right;\n",
       "    }\n",
       "</style>\n",
       "<table border=\"1\" class=\"dataframe\">\n",
       "  <thead>\n",
       "    <tr style=\"text-align: right;\">\n",
       "      <th></th>\n",
       "      <th>Irradiance</th>\n",
       "      <th>Ambient_Temperature</th>\n",
       "      <th>Sun_Azimuth</th>\n",
       "      <th>Sun_Elevation</th>\n",
       "      <th>System_Power</th>\n",
       "      <th>System_Age</th>\n",
       "      <th>System_Status</th>\n",
       "      <th>Healthy</th>\n",
       "      <th>Short_Circuit</th>\n",
       "      <th>Broken_Cells</th>\n",
       "      <th>Broken_Strings</th>\n",
       "    </tr>\n",
       "  </thead>\n",
       "  <tbody>\n",
       "    <tr>\n",
       "      <th>0</th>\n",
       "      <td>713</td>\n",
       "      <td>3.8</td>\n",
       "      <td>-71.3</td>\n",
       "      <td>19.8</td>\n",
       "      <td>5000.000000</td>\n",
       "      <td>0.073277</td>\n",
       "      <td>0</td>\n",
       "      <td>1</td>\n",
       "      <td>0</td>\n",
       "      <td>0</td>\n",
       "      <td>0</td>\n",
       "    </tr>\n",
       "    <tr>\n",
       "      <th>1</th>\n",
       "      <td>152</td>\n",
       "      <td>2.7</td>\n",
       "      <td>-28.2</td>\n",
       "      <td>11.7</td>\n",
       "      <td>1290.467722</td>\n",
       "      <td>3.731482</td>\n",
       "      <td>0</td>\n",
       "      <td>1</td>\n",
       "      <td>0</td>\n",
       "      <td>0</td>\n",
       "      <td>0</td>\n",
       "    </tr>\n",
       "    <tr>\n",
       "      <th>2</th>\n",
       "      <td>75</td>\n",
       "      <td>4.5</td>\n",
       "      <td>-49.6</td>\n",
       "      <td>23.1</td>\n",
       "      <td>366.571466</td>\n",
       "      <td>0.236534</td>\n",
       "      <td>0</td>\n",
       "      <td>1</td>\n",
       "      <td>0</td>\n",
       "      <td>0</td>\n",
       "      <td>0</td>\n",
       "    </tr>\n",
       "    <tr>\n",
       "      <th>3</th>\n",
       "      <td>379</td>\n",
       "      <td>17.7</td>\n",
       "      <td>-46.3</td>\n",
       "      <td>45.3</td>\n",
       "      <td>2261.488687</td>\n",
       "      <td>1.720781</td>\n",
       "      <td>0</td>\n",
       "      <td>1</td>\n",
       "      <td>0</td>\n",
       "      <td>0</td>\n",
       "      <td>0</td>\n",
       "    </tr>\n",
       "    <tr>\n",
       "      <th>4</th>\n",
       "      <td>453</td>\n",
       "      <td>14.2</td>\n",
       "      <td>-107.2</td>\n",
       "      <td>15.9</td>\n",
       "      <td>2616.082381</td>\n",
       "      <td>0.674352</td>\n",
       "      <td>0</td>\n",
       "      <td>1</td>\n",
       "      <td>0</td>\n",
       "      <td>0</td>\n",
       "      <td>0</td>\n",
       "    </tr>\n",
       "    <tr>\n",
       "      <th>...</th>\n",
       "      <td>...</td>\n",
       "      <td>...</td>\n",
       "      <td>...</td>\n",
       "      <td>...</td>\n",
       "      <td>...</td>\n",
       "      <td>...</td>\n",
       "      <td>...</td>\n",
       "      <td>...</td>\n",
       "      <td>...</td>\n",
       "      <td>...</td>\n",
       "      <td>...</td>\n",
       "    </tr>\n",
       "    <tr>\n",
       "      <th>11995</th>\n",
       "      <td>62</td>\n",
       "      <td>10.2</td>\n",
       "      <td>-17.2</td>\n",
       "      <td>13.3</td>\n",
       "      <td>118.293683</td>\n",
       "      <td>13.476348</td>\n",
       "      <td>1</td>\n",
       "      <td>0</td>\n",
       "      <td>0</td>\n",
       "      <td>0</td>\n",
       "      <td>1</td>\n",
       "    </tr>\n",
       "    <tr>\n",
       "      <th>11996</th>\n",
       "      <td>114</td>\n",
       "      <td>14.8</td>\n",
       "      <td>-17.4</td>\n",
       "      <td>33.2</td>\n",
       "      <td>253.335320</td>\n",
       "      <td>4.542954</td>\n",
       "      <td>1</td>\n",
       "      <td>0</td>\n",
       "      <td>0</td>\n",
       "      <td>0</td>\n",
       "      <td>1</td>\n",
       "    </tr>\n",
       "    <tr>\n",
       "      <th>11997</th>\n",
       "      <td>144</td>\n",
       "      <td>6.1</td>\n",
       "      <td>41.2</td>\n",
       "      <td>6.4</td>\n",
       "      <td>526.328072</td>\n",
       "      <td>14.553955</td>\n",
       "      <td>1</td>\n",
       "      <td>0</td>\n",
       "      <td>0</td>\n",
       "      <td>0</td>\n",
       "      <td>1</td>\n",
       "    </tr>\n",
       "    <tr>\n",
       "      <th>11998</th>\n",
       "      <td>486</td>\n",
       "      <td>9.6</td>\n",
       "      <td>56.1</td>\n",
       "      <td>14.8</td>\n",
       "      <td>1707.208551</td>\n",
       "      <td>6.610661</td>\n",
       "      <td>1</td>\n",
       "      <td>0</td>\n",
       "      <td>0</td>\n",
       "      <td>0</td>\n",
       "      <td>1</td>\n",
       "    </tr>\n",
       "    <tr>\n",
       "      <th>11999</th>\n",
       "      <td>103</td>\n",
       "      <td>13.0</td>\n",
       "      <td>-29.1</td>\n",
       "      <td>18.9</td>\n",
       "      <td>201.616715</td>\n",
       "      <td>22.294729</td>\n",
       "      <td>1</td>\n",
       "      <td>0</td>\n",
       "      <td>0</td>\n",
       "      <td>0</td>\n",
       "      <td>1</td>\n",
       "    </tr>\n",
       "  </tbody>\n",
       "</table>\n",
       "<p>12000 rows × 11 columns</p>\n",
       "</div>"
      ],
      "text/plain": [
       "       Irradiance  Ambient_Temperature  Sun_Azimuth  Sun_Elevation  \\\n",
       "0             713                  3.8        -71.3           19.8   \n",
       "1             152                  2.7        -28.2           11.7   \n",
       "2              75                  4.5        -49.6           23.1   \n",
       "3             379                 17.7        -46.3           45.3   \n",
       "4             453                 14.2       -107.2           15.9   \n",
       "...           ...                  ...          ...            ...   \n",
       "11995          62                 10.2        -17.2           13.3   \n",
       "11996         114                 14.8        -17.4           33.2   \n",
       "11997         144                  6.1         41.2            6.4   \n",
       "11998         486                  9.6         56.1           14.8   \n",
       "11999         103                 13.0        -29.1           18.9   \n",
       "\n",
       "       System_Power  System_Age  System_Status  Healthy  Short_Circuit  \\\n",
       "0       5000.000000    0.073277              0        1              0   \n",
       "1       1290.467722    3.731482              0        1              0   \n",
       "2        366.571466    0.236534              0        1              0   \n",
       "3       2261.488687    1.720781              0        1              0   \n",
       "4       2616.082381    0.674352              0        1              0   \n",
       "...             ...         ...            ...      ...            ...   \n",
       "11995    118.293683   13.476348              1        0              0   \n",
       "11996    253.335320    4.542954              1        0              0   \n",
       "11997    526.328072   14.553955              1        0              0   \n",
       "11998   1707.208551    6.610661              1        0              0   \n",
       "11999    201.616715   22.294729              1        0              0   \n",
       "\n",
       "       Broken_Cells  Broken_Strings  \n",
       "0                 0               0  \n",
       "1                 0               0  \n",
       "2                 0               0  \n",
       "3                 0               0  \n",
       "4                 0               0  \n",
       "...             ...             ...  \n",
       "11995             0               1  \n",
       "11996             0               1  \n",
       "11997             0               1  \n",
       "11998             0               1  \n",
       "11999             0               1  \n",
       "\n",
       "[12000 rows x 11 columns]"
      ]
     },
     "execution_count": 3,
     "metadata": {},
     "output_type": "execute_result"
    }
   ],
   "source": [
    "# Dataset transformation using one-hot encoding for multi-class classification\n",
    "\n",
    "data = data_orig.drop('Fault_Type', axis=1) # remove the ordinary encoding column\n",
    "data['Healthy'] = np.where(data_orig['Fault_Type'] == 0, 1, 0)\n",
    "data['Short_Circuit'] = np.where(data_orig['Fault_Type'] == 1, 1, 0)\n",
    "data['Broken_Cells'] = np.where(data_orig['Fault_Type'] == 2, 1, 0)\n",
    "data['Broken_Strings'] = np.where(data_orig['Fault_Type'] == 3, 1, 0)\n",
    "data"
   ]
  },
  {
   "cell_type": "code",
   "execution_count": 4,
   "id": "5302be9f",
   "metadata": {},
   "outputs": [
    {
     "name": "stdout",
     "output_type": "stream",
     "text": [
      "Dataset dimention:  (12000, 11)\n",
      "Noo missing values\n"
     ]
    }
   ],
   "source": [
    "print('Dataset dimention: ', data.shape)\n",
    "if data.isnull().values.any():\n",
    "    print('Some values are missing')\n",
    "else:\n",
    "    print('Noo missing values')"
   ]
  },
  {
   "cell_type": "code",
   "execution_count": 5,
   "id": "82c0b62e",
   "metadata": {},
   "outputs": [],
   "source": [
    "# Training-testing sets split: from now on the testing set must not be part of any operation, in order to prevent data leak\n",
    "\n",
    "training_set, testing_set = train_test_split(data, test_size=0.15, random_state=4720)\n",
    "\n",
    "X_training = training_set[['Irradiance', 'Ambient_Temperature', 'Sun_Azimuth', 'Sun_Elevation', \n",
    "                              'System_Power', 'System_Age']]\n",
    "y_2c_training = training_set['System_Status']\n",
    "y_mc_training = training_set[['Healthy', 'Short_Circuit', 'Broken_Cells', 'Broken_Strings']]\n",
    "\n",
    "X_test = testing_set[['Irradiance', 'Ambient_Temperature', 'Sun_Azimuth', 'Sun_Elevation', \n",
    "                              'System_Power', 'System_Age']]\n",
    "y_2c_test = testing_set['System_Status']\n",
    "y_mc_test = testing_set[['Healthy', 'Short_Circuit', 'Broken_Cells', 'Broken_Strings']]"
   ]
  },
  {
   "cell_type": "code",
   "execution_count": 18,
   "id": "a645ba2b",
   "metadata": {},
   "outputs": [],
   "source": [
    "#training_set"
   ]
  },
  {
   "cell_type": "code",
   "execution_count": 97,
   "id": "195bfc2b",
   "metadata": {
    "scrolled": false
   },
   "outputs": [],
   "source": [
    "#testing_set"
   ]
  },
  {
   "cell_type": "code",
   "execution_count": 6,
   "id": "3edf8194",
   "metadata": {},
   "outputs": [
    {
     "data": {
      "image/png": "[encoded data removed]",
      "text/plain": [
       "<Figure size 432x288 with 2 Axes>"
      ]
     },
     "metadata": {
      "needs_background": "light"
     },
     "output_type": "display_data"
    }
   ],
   "source": [
    "# Correlation matrix\n",
    "corr_matrix = X_training.corr()\n",
    "sn.heatmap(corr_matrix)\n",
    "plt.show()"
   ]
  },
  {
   "cell_type": "code",
   "execution_count": 7,
   "id": "9ebf5f94",
   "metadata": {},
   "outputs": [],
   "source": [
    "# Scaling of the features\n",
    "\n",
    "scaler = StandardScaler()\n",
    "scaler.fit(X_training)\n",
    "X_training_scaled = scaler.transform(X_training)"
   ]
  },
  {
   "cell_type": "markdown",
   "id": "25a4227e",
   "metadata": {},
   "source": [
    "# Binary Classification Model 1"
   ]
  },
  {
   "cell_type": "code",
   "execution_count": 8,
   "id": "1bfbd894",
   "metadata": {},
   "outputs": [
    {
     "name": "stdout",
     "output_type": "stream",
     "text": [
      "Accuracy: 0.8071895424836601\n"
     ]
    }
   ],
   "source": [
    "X_train, X_val, y_train_2c, y_val_2c = train_test_split(X_training_scaled, y_2c_training, test_size=0.15, random_state=4720)\n",
    "from sklearn.preprocessing import PolynomialFeatures\n",
    "pol = PolynomialFeatures(degree=3)\n",
    "pol.fit(X_train)\n",
    "X_train_pol = pol.transform(X_train)\n",
    "X_val_pol = pol.transform(X_val)\n",
    "lr = LogisticRegression(max_iter=1000)\n",
    "y_pred_pol = lr.fit(X_train_pol, y_train_2c).predict(X_val_pol)\n",
    "Accuracy = accuracy_score(y_val_2c,y_pred_pol)\n",
    "F1= f1_score(y_val_2c,y_pred_pol)\n",
    "Precision = precision_score(y_val_2c,y_pred_pol)\n",
    "Recall = recall_score(y_val_2c,y_pred_pol)\n",
    "print(\"Accuracy with linear features: \" + str(Accuracy))\n",
    "print(\"F1 score with linear features: \" + str(F1))\n",
    "print(\"Recall score with linear features: \" + str(Precision))\n",
    "print(\"Precision score with linear features: \" + str(Recall))"
   ]
  },
  {
   "cell_type": "code",
   "execution_count": 35,
   "id": "d05c5d8a",
   "metadata": {},
   "outputs": [
    {
     "name": "stdout",
     "output_type": "stream",
     "text": [
      "Accuracy: 0.7908496732026143\n"
     ]
    }
   ],
   "source": [
    "rfc = RandomForestClassifier(n_estimators=90)\n",
    "y_pred = rfc.fit(X_train, y_train_2c).predict(X_val)\n",
    "Accuracy = accuracy_score(y_val_2c,y_pred)\n",
    "F1= f1_score(y_val_2c,y_pred)\n",
    "Precision = precision_score(y_val_2c,y_pred)\n",
    "Recall = recall_score(y_val_2c,y_pred)\n",
    "print(\"Accuracy with linear features: \" + str(Accuracy))\n",
    "print(\"F1 score with linear features: \" + str(F1))\n",
    "print(\"Recall score with linear features: \" + str(Precision))\n",
    "print(\"Precision score with linear features: \" + str(Recall))"
   ]
  },
  {
   "cell_type": "markdown",
   "id": "3be14bf1",
   "metadata": {},
   "source": [
    "don't run it's heavy"
   ]
  },
  {
   "cell_type": "code",
   "execution_count": 29,
   "id": "19cc11db",
   "metadata": {},
   "outputs": [
    {
     "name": "stdout",
     "output_type": "stream",
     "text": [
      "Accuracy: 0.8156862745098039\n"
     ]
    }
   ],
   "source": [
    "X_train, X_val, y_train_2c, y_val_2c = train_test_split(X_training_scaled, y_2c_training, test_size=0.15, random_state=4720)\n",
    "bag = BaggingClassifier(base_estimator=svm.SVC(kernel='rbf',C=700, coef0=0.0, tol=1e-3),n_estimators=10, random_state=0)\n",
    "y_pred = bag.fit(X_train, y_train_2c).predict(X_val)\n",
    "Accuracy = accuracy_score(y_val_2c,y_pred)\n",
    "F1= f1_score(y_val_2c,y_pred)\n",
    "Precision = precision_score(y_val_2c,y_pred)\n",
    "Recall = recall_score(y_val_2c,y_pred)\n",
    "print(\"Accuracy with linear features: \" + str(Accuracy))\n",
    "print(\"F1 score with linear features: \" + str(F1))\n",
    "print(\"Recall score with linear features: \" + str(Precision))\n",
    "print(\"Precision score with linear features: \" + str(Recall))"
   ]
  },
  {
   "cell_type": "code",
   "execution_count": 10,
   "id": "5f4ec96c",
   "metadata": {},
   "outputs": [
    {
     "name": "stdout",
     "output_type": "stream",
     "text": [
      "Accuracy: 0.812 (0.006)\n"
     ]
    }
   ],
   "source": [
    "# define the model\n",
    "from sklearn.model_selection import cross_val_score\n",
    "from sklearn.model_selection import RepeatedStratifiedKFold\n",
    "model = BaggingClassifier(base_estimator=svm.SVC(kernel='rbf',C=700, coef0=0.0, tol=1e-3),n_estimators=10, random_state=0)\n",
    "# evaluate the model\n",
    "cv = RepeatedStratifiedKFold(n_splits=5, n_repeats=3, random_state=4720)\n",
    "n_scores = cross_val_score(model, X_training_scaled, y_2c_training, scoring='accuracy', cv=cv, n_jobs=-1, error_score='raise')\n",
    "# report performance\n",
    "print('Accuracy: %.3f (%.3f)' % (np.mean(n_scores), np.std(n_scores)))"
   ]
  },
  {
   "cell_type": "code",
   "execution_count": 41,
   "id": "5f4ec96c",
   "metadata": {},
   "outputs": [
    {
     "name": "stdout",
     "output_type": "stream",
     "text": [
      "Accuracy: 0.773 (0.008)\n"
     ]
    }
   ],
   "source": [
    "# define the model\n",
    "from sklearn.model_selection import cross_val_score\n",
    "from sklearn.model_selection import RepeatedStratifiedKFold\n",
    "model = BaggingClassifier(base_estimator=RandomForestClassifier(n_estimators=90),n_estimators=10, random_state=0)\n",
    "# evaluate the model\n",
    "cv = RepeatedStratifiedKFold(n_splits=5, n_repeats=3, random_state=4720)\n",
    "n_scores = cross_val_score(model, X_training_scaled, y_2c_training, scoring='accuracy', cv=cv, n_jobs=-1, error_score='raise')\n",
    "# report performance\n",
    "print('Accuracy: %.3f (%.3f)' % (np.mean(n_scores), np.std(n_scores)))"
   ]
  },
  {
   "cell_type": "code",
   "execution_count": 39,
   "id": "2b5352f0",
   "metadata": {},
   "outputs": [],
   "source": [
    "class_weight={0:1,1:1.1}\n",
    "clf_svmgauss = svm.SVC(kernel='rbf',C=700, coef0=0.0, tol=1e-3,class_weight=class_weight).fit(X_train, y_train_2c)\n",
    "y_prediction_svmguass = clf_svmgauss.predict(X_val)"
   ]
  },
  {
   "cell_type": "code",
   "execution_count": 40,
   "id": "64585ed3",
   "metadata": {},
   "outputs": [
    {
     "name": "stdout",
     "output_type": "stream",
     "text": [
      "Accuracy with linear features: 0.8274509803921568\n",
      "F1 score with linear features: 0.8201634877384196\n",
      "Recall score with linear features: 0.8526912181303116\n",
      "Precision score with linear features: 0.7900262467191601\n"
     ]
    }
   ],
   "source": [
    "Accuracy_svmG = accuracy_score(y_val_2c,y_prediction_svmguass)\n",
    "F1_svmG = f1_score(y_val_2c,y_prediction_svmguass)\n",
    "Precision_svmG = precision_score(y_val_2c,y_prediction_svmguass)\n",
    "Recall_svmG = recall_score(y_val_2c,y_prediction_svmguass)\n",
    "print(\"Accuracy with linear features: \" + str(Accuracy_svmG))\n",
    "print(\"F1 score with linear features: \" + str(F1_svmG))\n",
    "print(\"Recall score with linear features: \" + str(Precision_svmG))\n",
    "print(\"Precision score with linear features: \" + str(Recall_svmG))"
   ]
  },
  {
   "cell_type": "code",
   "execution_count": 43,
   "id": "7b58a6e9",
   "metadata": {},
   "outputs": [],
   "source": [
    "class_weight={0:1,1:1}\n",
    "clf_svmgauss = svm.SVC(kernel='rbf',C=700, coef0=0.0, tol=1e-3,class_weight=class_weight).fit(X_train_pol, y_train_2c)\n",
    "y_prediction_svmguass = clf_svmgauss.predict(X_val_pol)"
   ]
  },
  {
   "cell_type": "code",
   "execution_count": 44,
   "id": "8b363dd2",
   "metadata": {},
   "outputs": [
    {
     "name": "stdout",
     "output_type": "stream",
     "text": [
      "Accuracy with polynomial features: 0.8111111111111111\n",
      "F1 score with polynomial features: 0.8043331076506431\n",
      "Recall score with polynomial features: 0.8307692307692308\n",
      "Precision score with polynomial features: 0.7795275590551181\n"
     ]
    }
   ],
   "source": [
    "\n",
    "Accuracy_svmG = accuracy_score(y_val_2c,y_prediction_svmguass)\n",
    "F1_svmG = f1_score(y_val_2c,y_prediction_svmguass)\n",
    "Precision_svmG = precision_score(y_val_2c,y_prediction_svmguass)\n",
    "Recall_svmG = recall_score(y_val_2c,y_prediction_svmguass)\n",
    "print(\"Accuracy with polynomial features: \" + str(Accuracy_svmG))\n",
    "print(\"F1 score with polynomial features: \" + str(F1_svmG))\n",
    "print(\"Recall score with polynomial features: \" + str(Precision_svmG))\n",
    "print(\"Precision score with polynomial features: \" + str(Recall_svmG))"
   ]
  },
  {
   "cell_type": "markdown",
   "id": "3c5196f1",
   "metadata": {},
   "source": [
    "# Binary Classification Model 2"
   ]
  },
  {
   "cell_type": "code",
   "execution_count": 22,
   "id": "f331281a",
   "metadata": {},
   "outputs": [
    {
     "name": "stdout",
     "output_type": "stream",
     "text": [
      "Accuracy with polynomial features: 0.8392156862745098\n",
      "Accuracy with linear features: 0.7843137254901961\n"
     ]
    },
    {
     "name": "stderr",
     "output_type": "stream",
     "text": [
      "c:\\Users\\User\\AppData\\Local\\Programs\\Python\\Python310\\lib\\site-packages\\sklearn\\neural_network\\_multilayer_perceptron.py:692: ConvergenceWarning: Stochastic Optimizer: Maximum iterations (200) reached and the optimization hasn't converged yet.\n",
      "  warnings.warn(\n"
     ]
    }
   ],
   "source": [
    "from sklearn.neural_network import MLPClassifier\n",
    "\n",
    "FF_NN = MLPClassifier(hidden_layer_sizes=(X_train_pol.shape[1], 3), activation='relu', solver='adam', max_iter=200, shuffle=True, random_state=1, tol=0.0001, verbose=False, early_stopping=False, validation_fraction=0.1)\n",
    "y_pred = FF_NN.fit(X_train_pol, y_train_2c).predict(X_val_pol)\n",
    "print(\"Accuracy with polynomial features:\", accuracy_score(y_val_2c, y_pred))\n",
    "\n",
    "FF_NN = MLPClassifier(hidden_layer_sizes=(X_train.shape[1], 3), activation='relu', solver='adam', max_iter=200, shuffle=True, random_state=1, tol=0.0001, verbose=False, early_stopping=False, validation_fraction=0.1)\n",
    "y_pred = FF_NN.fit(X_train, y_train_2c).predict(X_val)\n",
    "print(\"Accuracy with linear features:\", accuracy_score(y_val_2c, y_pred))"
   ]
  },
  {
   "cell_type": "code",
   "execution_count": 9,
   "id": "d913652b",
   "metadata": {},
   "outputs": [],
   "source": [
    "from keras.models import Sequential\n",
    "from keras.layers import Dense\n",
    "from keras.utils import np_utils"
   ]
  },
  {
   "cell_type": "code",
   "execution_count": 16,
   "id": "53a557d8",
   "metadata": {},
   "outputs": [],
   "source": [
    "# define baseline model\n",
    "\n",
    "def baseline_model(layers,nodes):\n",
    "\t# create model 1 hidden layer with 8 nodes\n",
    "    #nodes=8\n",
    "    input_node=6\n",
    "    output_node=2\n",
    "    model = Sequential()\n",
    "    model.add(Dense(nodes[0], input_dim=input_node, activation='relu'))\n",
    "    for i in range(1,layers):\n",
    "        model.add(Dense(nodes[i], activation='relu'))\n",
    "    model.add(Dense(output_node, activation='sigmoid'))    #activation='softmax' for muticlass\n",
    "\t# Compile mode\n",
    "    model.compile(loss='categorical_crossentropy', optimizer='adam', metrics=['accuracy'])\n",
    "    return model"
   ]
  },
  {
   "cell_type": "code",
   "execution_count": 35,
   "id": "30af546c",
   "metadata": {},
   "outputs": [
    {
     "data": {
      "image/png": "[encoded data removed]",
      "text/plain": [
       "<Figure size 720x576 with 1 Axes>"
      ]
     },
     "metadata": {
      "needs_background": "light"
     },
     "output_type": "display_data"
    }
   ],
   "source": [
    "layers=4\n",
    "nodes=[6,6,6,6]\n",
    "model=baseline_model(layers,nodes)\n",
    "visualize_nn(model, description=True, figsize=(10,8))"
   ]
  },
  {
   "cell_type": "code",
   "execution_count": 12,
   "id": "d6f52c74",
   "metadata": {},
   "outputs": [
    {
     "name": "stdout",
     "output_type": "stream",
     "text": [
      "(1530, 2)\n"
     ]
    }
   ],
   "source": [
    "# work with labels\n",
    "# encode class values as integers\n",
    "encoder = LabelEncoder()\n",
    "encoder.fit(y_val_2c)\n",
    "encoded_Y = encoder.transform(y_val_2c)\n",
    "# convert integers to dummy variables (i.e. one hot encoded)\n",
    "dummy_y_val = np_utils.to_categorical(encoded_Y)\n",
    "print(dummy_y_val.shape)"
   ]
  },
  {
   "cell_type": "code",
   "execution_count": 13,
   "id": "10af7d95",
   "metadata": {},
   "outputs": [
    {
     "name": "stdout",
     "output_type": "stream",
     "text": [
      "[[1. 0.]\n",
      " [1. 0.]\n",
      " [1. 0.]\n",
      " ...\n",
      " [1. 0.]\n",
      " [1. 0.]\n",
      " [0. 1.]]\n"
     ]
    }
   ],
   "source": [
    "# work with labels\n",
    "# encode class values as integers\n",
    "encoder = LabelEncoder()\n",
    "encoder.fit(y_train_2c)\n",
    "encoded_Y = encoder.transform(y_train_2c)\n",
    "# convert integers to dummy variables (i.e. one hot encoded)\n",
    "dummy_y_train = np_utils.to_categorical(encoded_Y)\n",
    "print(dummy_y_train)"
   ]
  },
  {
   "cell_type": "code",
   "execution_count": 27,
   "id": "def73273",
   "metadata": {},
   "outputs": [
    {
     "name": "stdout",
     "output_type": "stream",
     "text": [
      "Epoch 1/10\n",
      "867/867 [==============================] - 2s 2ms/step - loss: 0.3508 - accuracy: 0.8284\n",
      "Epoch 2/10\n",
      "867/867 [==============================] - 2s 3ms/step - loss: 0.3505 - accuracy: 0.8314\n",
      "Epoch 3/10\n",
      "867/867 [==============================] - 3s 3ms/step - loss: 0.3523 - accuracy: 0.8290\n",
      "Epoch 4/10\n",
      "867/867 [==============================] - 2s 2ms/step - loss: 0.3550 - accuracy: 0.8257\n",
      "Epoch 5/10\n",
      "867/867 [==============================] - 2s 2ms/step - loss: 0.3537 - accuracy: 0.8293\n",
      "Epoch 6/10\n",
      "867/867 [==============================] - 2s 2ms/step - loss: 0.3507 - accuracy: 0.8292\n",
      "Epoch 7/10\n",
      "867/867 [==============================] - 2s 3ms/step - loss: 0.3532 - accuracy: 0.8275\n",
      "Epoch 8/10\n",
      "867/867 [==============================] - 2s 2ms/step - loss: 0.3501 - accuracy: 0.8278\n",
      "Epoch 9/10\n",
      "867/867 [==============================] - 2s 2ms/step - loss: 0.3532 - accuracy: 0.8294\n",
      "Epoch 10/10\n",
      "867/867 [==============================] - 2s 2ms/step - loss: 0.3512 - accuracy: 0.8266\n"
     ]
    }
   ],
   "source": [
    "history = model.fit(X_train, dummy_y_train, epochs=1600, batch_size=10)"
   ]
  },
  {
   "cell_type": "code",
   "execution_count": 20,
   "id": "9f28b9a2",
   "metadata": {},
   "outputs": [
    {
     "name": "stdout",
     "output_type": "stream",
     "text": [
      "48/48 [==============================] - 1s 4ms/step - loss: 0.3553 - accuracy: 0.8320\n",
      "Accuracy: 83.20\n"
     ]
    }
   ],
   "source": [
    "# evaluate the keras model\n",
    "_, accuracy = model.evaluate(X_val, dummy_y_val)\n",
    "print('Accuracy: %.2f' % (accuracy*100))"
   ]
  },
  {
   "cell_type": "code",
   "execution_count": 22,
   "id": "67785a3c",
   "metadata": {},
   "outputs": [
    {
     "data": {
      "text/plain": [
       "array([[708,  60],\n",
       "       [197, 565]], dtype=int64)"
      ]
     },
     "execution_count": 22,
     "metadata": {},
     "output_type": "execute_result"
    }
   ],
   "source": [
    "y_2c_predict=model.predict(X_val,batch_size=10)\n",
    "matrix = confusion_matrix(dummy_y_val[:,1], y_2c_predict.argmax(axis=1))\n",
    "matrix"
   ]
  },
  {
   "cell_type": "code",
   "execution_count": 24,
   "id": "206c13ba",
   "metadata": {},
   "outputs": [
    {
     "name": "stdout",
     "output_type": "stream",
     "text": [
      "Accuracy with linear features: 0.8320261437908497\n",
      "F1 score with linear features: 0.8147080028839221\n",
      "Recall score with linear features: 0.904\n",
      "Precision score with linear features: 0.7414698162729659\n"
     ]
    }
   ],
   "source": [
    "Accuracy = accuracy_score(dummy_y_val[:,1], y_2c_predict.argmax(axis=1))\n",
    "F1= f1_score(dummy_y_val[:,1], y_2c_predict.argmax(axis=1))\n",
    "Precision = precision_score(dummy_y_val[:,1], y_2c_predict.argmax(axis=1))\n",
    "Recall = recall_score(dummy_y_val[:,1], y_2c_predict.argmax(axis=1))\n",
    "print(\"Accuracy with linear features: \" + str(Accuracy))\n",
    "print(\"F1 score with linear features: \" + str(F1))\n",
    "print(\"Recall score with linear features: \" + str(Precision))\n",
    "print(\"Precision score with linear features: \" + str(Recall))"
   ]
  },
  {
   "cell_type": "markdown",
   "id": "3ed04c92",
   "metadata": {},
   "source": [
    "# Grafici + Shap"
   ]
  },
  {
   "cell_type": "code",
   "execution_count": 31,
   "id": "4f38380a",
   "metadata": {},
   "outputs": [],
   "source": [
    "import shap\n",
    "def explainer_shap(model, X_names, X_instance, X_train=None, task=\"classification\", top=10):\n",
    "    ## create explainer\n",
    "    ### machine learning\n",
    "    if X_train is None:\n",
    "        explainer = shap.TreeExplainer(model)\n",
    "        shap_values = explainer.shap_values(X_instance)\n",
    "    ### deep learning\n",
    "    else:\n",
    "        explainer = shap.DeepExplainer(model, data=X_train[:100])\n",
    "        shap_values = explainer.shap_values(X_instance.reshape(1,-1))[0].reshape(-1)\n",
    "\n",
    "    ## plot\n",
    "    ### classification\n",
    "    if task == \"classification\":\n",
    "        shap.decision_plot(explainer.expected_value, shap_values, link='logit', feature_order='importance',\n",
    "                           features=X_instance, feature_names=X_names, feature_display_range=slice(-1,-top-1,-1))\n",
    "    ### regression\n",
    "    else:\n",
    "        shap.waterfall_plot(explainer.expected_value[0], shap_values, \n",
    "                            features=X_instance, feature_names=X_names, max_display=top)"
   ]
  },
  {
   "cell_type": "code",
   "execution_count": 33,
   "id": "c5952fa2",
   "metadata": {},
   "outputs": [
    {
     "ename": "AttributeError",
     "evalue": "module 'pandas' has no attribute 'dataset'",
     "output_type": "error",
     "traceback": [
      "\u001b[1;31m---------------------------------------------------------------------------\u001b[0m",
      "\u001b[1;31mAttributeError\u001b[0m                            Traceback (most recent call last)",
      "\u001b[1;32mc:\\Users\\User\\Desktop\\Machine Learning\\Machine-Learning-Project\\Project_EE4C12_SET_PV_2.ipynb Cella 35\u001b[0m in \u001b[0;36m<cell line: 2>\u001b[1;34m()\u001b[0m\n\u001b[0;32m      <a href='vscode-notebook-cell:/c%3A/Users/User/Desktop/Machine%20Learning/Machine-Learning-Project/Project_EE4C12_SET_PV_2.ipynb#X54sZmlsZQ%3D%3D?line=0'>1</a>\u001b[0m i \u001b[39m=\u001b[39m \u001b[39m1\u001b[39m\n\u001b[0;32m      <a href='vscode-notebook-cell:/c%3A/Users/User/Desktop/Machine%20Learning/Machine-Learning-Project/Project_EE4C12_SET_PV_2.ipynb#X54sZmlsZQ%3D%3D?line=1'>2</a>\u001b[0m explainer_shap(model, \n\u001b[1;32m----> <a href='vscode-notebook-cell:/c%3A/Users/User/Desktop/Machine%20Learning/Machine-Learning-Project/Project_EE4C12_SET_PV_2.ipynb#X54sZmlsZQ%3D%3D?line=2'>3</a>\u001b[0m                X_names\u001b[39m=\u001b[39mnp\u001b[39m.\u001b[39marray(pd\u001b[39m.\u001b[39;49mdataset(X_train)\u001b[39m.\u001b[39mcolumns), \n\u001b[0;32m      <a href='vscode-notebook-cell:/c%3A/Users/User/Desktop/Machine%20Learning/Machine-Learning-Project/Project_EE4C12_SET_PV_2.ipynb#X54sZmlsZQ%3D%3D?line=3'>4</a>\u001b[0m                X_instance\u001b[39m=\u001b[39mX_train[i], \n\u001b[0;32m      <a href='vscode-notebook-cell:/c%3A/Users/User/Desktop/Machine%20Learning/Machine-Learning-Project/Project_EE4C12_SET_PV_2.ipynb#X54sZmlsZQ%3D%3D?line=4'>5</a>\u001b[0m                X_train\u001b[39m=\u001b[39mX_train, \n\u001b[0;32m      <a href='vscode-notebook-cell:/c%3A/Users/User/Desktop/Machine%20Learning/Machine-Learning-Project/Project_EE4C12_SET_PV_2.ipynb#X54sZmlsZQ%3D%3D?line=5'>6</a>\u001b[0m                task\u001b[39m=\u001b[39m\u001b[39m\"\u001b[39m\u001b[39mclassification\u001b[39m\u001b[39m\"\u001b[39m, \u001b[39m#task=\"regression\"\u001b[39;00m\n\u001b[0;32m      <a href='vscode-notebook-cell:/c%3A/Users/User/Desktop/Machine%20Learning/Machine-Learning-Project/Project_EE4C12_SET_PV_2.ipynb#X54sZmlsZQ%3D%3D?line=6'>7</a>\u001b[0m                top\u001b[39m=\u001b[39m\u001b[39m10\u001b[39m)\n",
      "File \u001b[1;32mc:\\Users\\User\\AppData\\Local\\Programs\\Python\\Python310\\lib\\site-packages\\pandas\\__init__.py:261\u001b[0m, in \u001b[0;36m__getattr__\u001b[1;34m(name)\u001b[0m\n\u001b[0;32m    257\u001b[0m     \u001b[39mfrom\u001b[39;00m \u001b[39mpandas\u001b[39;00m\u001b[39m.\u001b[39;00m\u001b[39mcore\u001b[39;00m\u001b[39m.\u001b[39;00m\u001b[39marrays\u001b[39;00m\u001b[39m.\u001b[39;00m\u001b[39msparse\u001b[39;00m \u001b[39mimport\u001b[39;00m SparseArray \u001b[39mas\u001b[39;00m _SparseArray\n\u001b[0;32m    259\u001b[0m     \u001b[39mreturn\u001b[39;00m _SparseArray\n\u001b[1;32m--> 261\u001b[0m \u001b[39mraise\u001b[39;00m \u001b[39mAttributeError\u001b[39;00m(\u001b[39mf\u001b[39m\u001b[39m\"\u001b[39m\u001b[39mmodule \u001b[39m\u001b[39m'\u001b[39m\u001b[39mpandas\u001b[39m\u001b[39m'\u001b[39m\u001b[39m has no attribute \u001b[39m\u001b[39m'\u001b[39m\u001b[39m{\u001b[39;00mname\u001b[39m}\u001b[39;00m\u001b[39m'\u001b[39m\u001b[39m\"\u001b[39m)\n",
      "\u001b[1;31mAttributeError\u001b[0m: module 'pandas' has no attribute 'dataset'"
     ]
    }
   ],
   "source": [
    "i = 1\n",
    "explainer_shap(model, \n",
    "               X_names=np.array((X_train).columns), \n",
    "               X_instance=X_train[i], \n",
    "               X_train=X_train, \n",
    "               task=\"classification\", #task=\"regression\"\n",
    "               top=10)"
   ]
  },
  {
   "cell_type": "code",
   "execution_count": 30,
   "id": "d48701a8",
   "metadata": {},
   "outputs": [
    {
     "data": {
      "image/png": "[encoded data removed]",
      "text/plain": [
       "<Figure size 432x288 with 1 Axes>"
      ]
     },
     "metadata": {
      "needs_background": "light"
     },
     "output_type": "display_data"
    }
   ],
   "source": [
    "history_dict = history.history\n",
    "\n",
    "# learning curve\n",
    "# accuracy\n",
    "acc = history_dict['accuracy']\n",
    "#val_acc = history_dict['val_accuracy']\n",
    "\n",
    "# loss\n",
    "loss = history_dict['loss']\n",
    "#val_loss = history_dict['val_loss']\n",
    "\n",
    "# range of X (no. of epochs)\n",
    "epochs = range(1, len(acc) + 1)\n",
    "\n",
    "# plot\n",
    "# \"r\" is for \"solid red line\"\n",
    "plt.plot(epochs, acc, 'r', label='Training accuracy')\n",
    "# b is for \"solid blue line\"\n",
    "plt.plot(epochs, loss, 'b', label='Validation accuracy')\n",
    "plt.title('Training and validation accuracy')\n",
    "plt.xlabel('Epochs')\n",
    "plt.ylabel('Accuracy')\n",
    "plt.legend()\n",
    "\n",
    "plt.show()"
   ]
  },
  {
   "cell_type": "code",
   "execution_count": 34,
   "id": "73af5295",
   "metadata": {},
   "outputs": [],
   "source": [
    "def utils_nn_config(model):\n",
    "    lst_layers = []\n",
    "    if \"Sequential\" in str(model): #-> Sequential doesn't show the input layer\n",
    "        layer = model.layers[0]\n",
    "        lst_layers.append({\"name\":\"input\", \"in\":int(layer.input.shape[-1]), \"neurons\":0, \n",
    "                           \"out\":int(layer.input.shape[-1]), \"activation\":None,\n",
    "                           \"params\":0, \"bias\":0})\n",
    "    for layer in model.layers:\n",
    "        try:\n",
    "            dic_layer = {\"name\":layer.name, \"in\":int(layer.input.shape[-1]), \"neurons\":layer.units, \n",
    "                         \"out\":int(layer.output.shape[-1]), \"activation\":layer.get_config()[\"activation\"],\n",
    "                         \"params\":layer.get_weights()[0], \"bias\":layer.get_weights()[1]}\n",
    "        except:\n",
    "            dic_layer = {\"name\":layer.name, \"in\":int(layer.input.shape[-1]), \"neurons\":0, \n",
    "                         \"out\":int(layer.output.shape[-1]), \"activation\":None,\n",
    "                         \"params\":0, \"bias\":0}\n",
    "        lst_layers.append(dic_layer)\n",
    "    return lst_layers\n",
    "\n",
    "\n",
    "'''\n",
    "Plot the structure of a keras neural network.\n",
    "'''\n",
    "def visualize_nn(model, description=False, figsize=(10,8)):\n",
    "    ## get layers info\n",
    "    lst_layers = utils_nn_config(model)\n",
    "    layer_sizes = [layer[\"out\"] for layer in lst_layers]\n",
    "    \n",
    "    ## fig setup\n",
    "    fig = plt.figure(figsize=figsize)\n",
    "    ax = fig.gca()\n",
    "    ax.set(title=model.name)\n",
    "    ax.axis('off')\n",
    "    left, right, bottom, top = 0.1, 0.9, 0.1, 0.9\n",
    "    x_space = (right-left) / float(len(layer_sizes)-1)\n",
    "    y_space = (top-bottom) / float(max(layer_sizes))\n",
    "    p = 0.025\n",
    "    \n",
    "    ## nodes\n",
    "    for i,n in enumerate(layer_sizes):\n",
    "        top_on_layer = y_space*(n-1)/2.0 + (top+bottom)/2.0\n",
    "        layer = lst_layers[i]\n",
    "        color = \"green\" if i in [0, len(layer_sizes)-1] else \"blue\"\n",
    "        color = \"red\" if (layer['neurons'] == 0) and (i > 0) else color\n",
    "        \n",
    "        ### add description\n",
    "        if (description is True):\n",
    "            d = i if i == 0 else i-0.5\n",
    "            if layer['activation'] is None:\n",
    "                plt.text(x=left+d*x_space, y=top, fontsize=10, color=color, s=layer[\"name\"].upper())\n",
    "            else:\n",
    "                plt.text(x=left+d*x_space, y=top, fontsize=10, color=color, s=layer[\"name\"].upper())\n",
    "                plt.text(x=left+d*x_space, y=top-p, fontsize=10, color=color, s=layer['activation']+\" (\")\n",
    "                plt.text(x=left+d*x_space, y=top-2*p, fontsize=10, color=color, s=\"Σ\"+str(layer['in'])+\"[X*w]+b\")\n",
    "                out = \" Y\"  if i == len(layer_sizes)-1 else \" out\"\n",
    "                plt.text(x=left+d*x_space, y=top-3*p, fontsize=10, color=color, s=\") = \"+str(layer['neurons'])+out)\n",
    "        \n",
    "        ### circles\n",
    "        for m in range(n):\n",
    "            color = \"limegreen\" if color == \"green\" else color\n",
    "            circle = plt.Circle(xy=(left+i*x_space, top_on_layer-m*y_space-4*p), radius=y_space/4.0, color=color, ec='k', zorder=4)\n",
    "            ax.add_artist(circle)\n",
    "            \n",
    "            ### add text\n",
    "            if i == 0:\n",
    "                plt.text(x=left-4*p, y=top_on_layer-m*y_space-4*p, fontsize=10, s=r'$X_{'+str(m+1)+'}$')\n",
    "            elif i == len(layer_sizes)-1:\n",
    "                plt.text(x=right+4*p, y=top_on_layer-m*y_space-4*p, fontsize=10, s=r'$y_{'+str(m+1)+'}$')\n",
    "            else:\n",
    "                plt.text(x=left+i*x_space+p, y=top_on_layer-m*y_space+(y_space/8.+0.01*y_space)-4*p, fontsize=10, s=r'$H_{'+str(m+1)+'}$')\n",
    "    \n",
    "    ## links\n",
    "    for i, (n_a, n_b) in enumerate(zip(layer_sizes[:-1], layer_sizes[1:])):\n",
    "        layer = lst_layers[i+1]\n",
    "        color = \"green\" if i == len(layer_sizes)-2 else \"blue\"\n",
    "        color = \"red\" if layer['neurons'] == 0 else color\n",
    "        layer_top_a = y_space*(n_a-1)/2. + (top+bottom)/2. -4*p\n",
    "        layer_top_b = y_space*(n_b-1)/2. + (top+bottom)/2. -4*p\n",
    "        for m in range(n_a):\n",
    "            for o in range(n_b):\n",
    "                line = plt.Line2D([i*x_space+left, (i+1)*x_space+left], \n",
    "                                  [layer_top_a-m*y_space, layer_top_b-o*y_space], \n",
    "                                  c=color, alpha=0.5)\n",
    "                if layer['activation'] is None:\n",
    "                    if o == m:\n",
    "                        ax.add_artist(line)\n",
    "                else:\n",
    "                    ax.add_artist(line)\n",
    "    plt.show()"
   ]
  }
 ],
 "metadata": {
  "kernelspec": {
   "display_name": "Python 3.10.2 64-bit",
   "language": "python",
   "name": "python3"
  },
  "language_info": {
   "codemirror_mode": {
    "name": "ipython",
    "version": 3
   },
   "file_extension": ".py",
   "mimetype": "text/x-python",
   "name": "python",
   "nbconvert_exporter": "python",
   "pygments_lexer": "ipython3",
   "version": "3.10.2"
  },
  "vscode": {
   "interpreter": {
    "hash": "afb734500600fd355917ca529030176ea0ca205570884b88f2f6f7d791fd3fbe"
   }
  }
 },
 "nbformat": 4,
 "nbformat_minor": 5
}
