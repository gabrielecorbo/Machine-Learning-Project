{
 "cells": [
  {
   "cell_type": "code",
   "execution_count": 5,
   "id": "1285e679",
   "metadata": {},
   "outputs": [],
   "source": [
    "# Libraries\n",
    "import numpy as np\n",
    "import pandas as pd\n",
    "import seaborn as sn\n",
    "import matplotlib.pyplot as plt\n",
    "from sklearn.model_selection import train_test_split\n",
    "from sklearn.metrics import accuracy_score, f1_score, precision_score, recall_score, roc_curve, plot_roc_curve, confusion_matrix, plot_confusion_matrix \n",
    "from sklearn.preprocessing import StandardScaler, OneHotEncoder, LabelEncoder\n",
    "from sklearn.linear_model import LogisticRegression\n",
    "from sklearn import svm\n",
    "from sklearn.ensemble import RandomForestClassifier\n",
    "from sklearn.ensemble import BaggingClassifier"
   ]
  },
  {
   "cell_type": "markdown",
   "id": "07e00526",
   "metadata": {},
   "source": [
    "# Data Pre-processing and Feature Preparation"
   ]
  },
  {
   "cell_type": "code",
   "execution_count": 8,
   "id": "05f24e46",
   "metadata": {},
   "outputs": [
    {
     "data": {
      "text/html": [
       "<div>\n",
       "<style scoped>\n",
       "    .dataframe tbody tr th:only-of-type {\n",
       "        vertical-align: middle;\n",
       "    }\n",
       "\n",
       "    .dataframe tbody tr th {\n",
       "        vertical-align: top;\n",
       "    }\n",
       "\n",
       "    .dataframe thead th {\n",
       "        text-align: right;\n",
       "    }\n",
       "</style>\n",
       "<table border=\"1\" class=\"dataframe\">\n",
       "  <thead>\n",
       "    <tr style=\"text-align: right;\">\n",
       "      <th></th>\n",
       "      <th>Irradiance</th>\n",
       "      <th>Ambient_Temperature</th>\n",
       "      <th>Sun_Azimuth</th>\n",
       "      <th>Sun_Elevation</th>\n",
       "      <th>System_Power</th>\n",
       "      <th>System_Age</th>\n",
       "      <th>System_Status</th>\n",
       "      <th>Fault_Type</th>\n",
       "    </tr>\n",
       "  </thead>\n",
       "  <tbody>\n",
       "    <tr>\n",
       "      <th>0</th>\n",
       "      <td>713</td>\n",
       "      <td>3.8</td>\n",
       "      <td>-71.3</td>\n",
       "      <td>19.8</td>\n",
       "      <td>5000.000000</td>\n",
       "      <td>0.073277</td>\n",
       "      <td>0</td>\n",
       "      <td>0</td>\n",
       "    </tr>\n",
       "    <tr>\n",
       "      <th>1</th>\n",
       "      <td>152</td>\n",
       "      <td>2.7</td>\n",
       "      <td>-28.2</td>\n",
       "      <td>11.7</td>\n",
       "      <td>1290.467722</td>\n",
       "      <td>3.731482</td>\n",
       "      <td>0</td>\n",
       "      <td>0</td>\n",
       "    </tr>\n",
       "    <tr>\n",
       "      <th>2</th>\n",
       "      <td>75</td>\n",
       "      <td>4.5</td>\n",
       "      <td>-49.6</td>\n",
       "      <td>23.1</td>\n",
       "      <td>366.571466</td>\n",
       "      <td>0.236534</td>\n",
       "      <td>0</td>\n",
       "      <td>0</td>\n",
       "    </tr>\n",
       "    <tr>\n",
       "      <th>3</th>\n",
       "      <td>379</td>\n",
       "      <td>17.7</td>\n",
       "      <td>-46.3</td>\n",
       "      <td>45.3</td>\n",
       "      <td>2261.488687</td>\n",
       "      <td>1.720781</td>\n",
       "      <td>0</td>\n",
       "      <td>0</td>\n",
       "    </tr>\n",
       "    <tr>\n",
       "      <th>4</th>\n",
       "      <td>453</td>\n",
       "      <td>14.2</td>\n",
       "      <td>-107.2</td>\n",
       "      <td>15.9</td>\n",
       "      <td>2616.082381</td>\n",
       "      <td>0.674352</td>\n",
       "      <td>0</td>\n",
       "      <td>0</td>\n",
       "    </tr>\n",
       "    <tr>\n",
       "      <th>...</th>\n",
       "      <td>...</td>\n",
       "      <td>...</td>\n",
       "      <td>...</td>\n",
       "      <td>...</td>\n",
       "      <td>...</td>\n",
       "      <td>...</td>\n",
       "      <td>...</td>\n",
       "      <td>...</td>\n",
       "    </tr>\n",
       "    <tr>\n",
       "      <th>11995</th>\n",
       "      <td>62</td>\n",
       "      <td>10.2</td>\n",
       "      <td>-17.2</td>\n",
       "      <td>13.3</td>\n",
       "      <td>118.293683</td>\n",
       "      <td>13.476348</td>\n",
       "      <td>1</td>\n",
       "      <td>3</td>\n",
       "    </tr>\n",
       "    <tr>\n",
       "      <th>11996</th>\n",
       "      <td>114</td>\n",
       "      <td>14.8</td>\n",
       "      <td>-17.4</td>\n",
       "      <td>33.2</td>\n",
       "      <td>253.335320</td>\n",
       "      <td>4.542954</td>\n",
       "      <td>1</td>\n",
       "      <td>3</td>\n",
       "    </tr>\n",
       "    <tr>\n",
       "      <th>11997</th>\n",
       "      <td>144</td>\n",
       "      <td>6.1</td>\n",
       "      <td>41.2</td>\n",
       "      <td>6.4</td>\n",
       "      <td>526.328072</td>\n",
       "      <td>14.553955</td>\n",
       "      <td>1</td>\n",
       "      <td>3</td>\n",
       "    </tr>\n",
       "    <tr>\n",
       "      <th>11998</th>\n",
       "      <td>486</td>\n",
       "      <td>9.6</td>\n",
       "      <td>56.1</td>\n",
       "      <td>14.8</td>\n",
       "      <td>1707.208551</td>\n",
       "      <td>6.610661</td>\n",
       "      <td>1</td>\n",
       "      <td>3</td>\n",
       "    </tr>\n",
       "    <tr>\n",
       "      <th>11999</th>\n",
       "      <td>103</td>\n",
       "      <td>13.0</td>\n",
       "      <td>-29.1</td>\n",
       "      <td>18.9</td>\n",
       "      <td>201.616715</td>\n",
       "      <td>22.294729</td>\n",
       "      <td>1</td>\n",
       "      <td>3</td>\n",
       "    </tr>\n",
       "  </tbody>\n",
       "</table>\n",
       "<p>12000 rows × 8 columns</p>\n",
       "</div>"
      ],
      "text/plain": [
       "       Irradiance  Ambient_Temperature  Sun_Azimuth  Sun_Elevation  \\\n",
       "0             713                  3.8        -71.3           19.8   \n",
       "1             152                  2.7        -28.2           11.7   \n",
       "2              75                  4.5        -49.6           23.1   \n",
       "3             379                 17.7        -46.3           45.3   \n",
       "4             453                 14.2       -107.2           15.9   \n",
       "...           ...                  ...          ...            ...   \n",
       "11995          62                 10.2        -17.2           13.3   \n",
       "11996         114                 14.8        -17.4           33.2   \n",
       "11997         144                  6.1         41.2            6.4   \n",
       "11998         486                  9.6         56.1           14.8   \n",
       "11999         103                 13.0        -29.1           18.9   \n",
       "\n",
       "       System_Power  System_Age  System_Status  Fault_Type  \n",
       "0       5000.000000    0.073277              0           0  \n",
       "1       1290.467722    3.731482              0           0  \n",
       "2        366.571466    0.236534              0           0  \n",
       "3       2261.488687    1.720781              0           0  \n",
       "4       2616.082381    0.674352              0           0  \n",
       "...             ...         ...            ...         ...  \n",
       "11995    118.293683   13.476348              1           3  \n",
       "11996    253.335320    4.542954              1           3  \n",
       "11997    526.328072   14.553955              1           3  \n",
       "11998   1707.208551    6.610661              1           3  \n",
       "11999    201.616715   22.294729              1           3  \n",
       "\n",
       "[12000 rows x 8 columns]"
      ]
     },
     "execution_count": 8,
     "metadata": {},
     "output_type": "execute_result"
    }
   ],
   "source": [
    "# Import dataset\n",
    "data_orig = pd.read_csv('Project_Data_EE4C12_SET_PV.csv')\n",
    "data_orig"
   ]
  },
  {
   "cell_type": "code",
   "execution_count": 9,
   "id": "456882b8",
   "metadata": {},
   "outputs": [
    {
     "data": {
      "text/html": [
       "<div>\n",
       "<style scoped>\n",
       "    .dataframe tbody tr th:only-of-type {\n",
       "        vertical-align: middle;\n",
       "    }\n",
       "\n",
       "    .dataframe tbody tr th {\n",
       "        vertical-align: top;\n",
       "    }\n",
       "\n",
       "    .dataframe thead th {\n",
       "        text-align: right;\n",
       "    }\n",
       "</style>\n",
       "<table border=\"1\" class=\"dataframe\">\n",
       "  <thead>\n",
       "    <tr style=\"text-align: right;\">\n",
       "      <th></th>\n",
       "      <th>Irradiance</th>\n",
       "      <th>Ambient_Temperature</th>\n",
       "      <th>Sun_Azimuth</th>\n",
       "      <th>Sun_Elevation</th>\n",
       "      <th>System_Power</th>\n",
       "      <th>System_Age</th>\n",
       "      <th>System_Status</th>\n",
       "      <th>Healthy</th>\n",
       "      <th>Short_Circuit</th>\n",
       "      <th>Broken_Cells</th>\n",
       "      <th>Broken_Strings</th>\n",
       "    </tr>\n",
       "  </thead>\n",
       "  <tbody>\n",
       "    <tr>\n",
       "      <th>0</th>\n",
       "      <td>713</td>\n",
       "      <td>3.8</td>\n",
       "      <td>-71.3</td>\n",
       "      <td>19.8</td>\n",
       "      <td>5000.000000</td>\n",
       "      <td>0.073277</td>\n",
       "      <td>0</td>\n",
       "      <td>1</td>\n",
       "      <td>0</td>\n",
       "      <td>0</td>\n",
       "      <td>0</td>\n",
       "    </tr>\n",
       "    <tr>\n",
       "      <th>1</th>\n",
       "      <td>152</td>\n",
       "      <td>2.7</td>\n",
       "      <td>-28.2</td>\n",
       "      <td>11.7</td>\n",
       "      <td>1290.467722</td>\n",
       "      <td>3.731482</td>\n",
       "      <td>0</td>\n",
       "      <td>1</td>\n",
       "      <td>0</td>\n",
       "      <td>0</td>\n",
       "      <td>0</td>\n",
       "    </tr>\n",
       "    <tr>\n",
       "      <th>2</th>\n",
       "      <td>75</td>\n",
       "      <td>4.5</td>\n",
       "      <td>-49.6</td>\n",
       "      <td>23.1</td>\n",
       "      <td>366.571466</td>\n",
       "      <td>0.236534</td>\n",
       "      <td>0</td>\n",
       "      <td>1</td>\n",
       "      <td>0</td>\n",
       "      <td>0</td>\n",
       "      <td>0</td>\n",
       "    </tr>\n",
       "    <tr>\n",
       "      <th>3</th>\n",
       "      <td>379</td>\n",
       "      <td>17.7</td>\n",
       "      <td>-46.3</td>\n",
       "      <td>45.3</td>\n",
       "      <td>2261.488687</td>\n",
       "      <td>1.720781</td>\n",
       "      <td>0</td>\n",
       "      <td>1</td>\n",
       "      <td>0</td>\n",
       "      <td>0</td>\n",
       "      <td>0</td>\n",
       "    </tr>\n",
       "    <tr>\n",
       "      <th>4</th>\n",
       "      <td>453</td>\n",
       "      <td>14.2</td>\n",
       "      <td>-107.2</td>\n",
       "      <td>15.9</td>\n",
       "      <td>2616.082381</td>\n",
       "      <td>0.674352</td>\n",
       "      <td>0</td>\n",
       "      <td>1</td>\n",
       "      <td>0</td>\n",
       "      <td>0</td>\n",
       "      <td>0</td>\n",
       "    </tr>\n",
       "    <tr>\n",
       "      <th>...</th>\n",
       "      <td>...</td>\n",
       "      <td>...</td>\n",
       "      <td>...</td>\n",
       "      <td>...</td>\n",
       "      <td>...</td>\n",
       "      <td>...</td>\n",
       "      <td>...</td>\n",
       "      <td>...</td>\n",
       "      <td>...</td>\n",
       "      <td>...</td>\n",
       "      <td>...</td>\n",
       "    </tr>\n",
       "    <tr>\n",
       "      <th>11995</th>\n",
       "      <td>62</td>\n",
       "      <td>10.2</td>\n",
       "      <td>-17.2</td>\n",
       "      <td>13.3</td>\n",
       "      <td>118.293683</td>\n",
       "      <td>13.476348</td>\n",
       "      <td>1</td>\n",
       "      <td>0</td>\n",
       "      <td>0</td>\n",
       "      <td>0</td>\n",
       "      <td>1</td>\n",
       "    </tr>\n",
       "    <tr>\n",
       "      <th>11996</th>\n",
       "      <td>114</td>\n",
       "      <td>14.8</td>\n",
       "      <td>-17.4</td>\n",
       "      <td>33.2</td>\n",
       "      <td>253.335320</td>\n",
       "      <td>4.542954</td>\n",
       "      <td>1</td>\n",
       "      <td>0</td>\n",
       "      <td>0</td>\n",
       "      <td>0</td>\n",
       "      <td>1</td>\n",
       "    </tr>\n",
       "    <tr>\n",
       "      <th>11997</th>\n",
       "      <td>144</td>\n",
       "      <td>6.1</td>\n",
       "      <td>41.2</td>\n",
       "      <td>6.4</td>\n",
       "      <td>526.328072</td>\n",
       "      <td>14.553955</td>\n",
       "      <td>1</td>\n",
       "      <td>0</td>\n",
       "      <td>0</td>\n",
       "      <td>0</td>\n",
       "      <td>1</td>\n",
       "    </tr>\n",
       "    <tr>\n",
       "      <th>11998</th>\n",
       "      <td>486</td>\n",
       "      <td>9.6</td>\n",
       "      <td>56.1</td>\n",
       "      <td>14.8</td>\n",
       "      <td>1707.208551</td>\n",
       "      <td>6.610661</td>\n",
       "      <td>1</td>\n",
       "      <td>0</td>\n",
       "      <td>0</td>\n",
       "      <td>0</td>\n",
       "      <td>1</td>\n",
       "    </tr>\n",
       "    <tr>\n",
       "      <th>11999</th>\n",
       "      <td>103</td>\n",
       "      <td>13.0</td>\n",
       "      <td>-29.1</td>\n",
       "      <td>18.9</td>\n",
       "      <td>201.616715</td>\n",
       "      <td>22.294729</td>\n",
       "      <td>1</td>\n",
       "      <td>0</td>\n",
       "      <td>0</td>\n",
       "      <td>0</td>\n",
       "      <td>1</td>\n",
       "    </tr>\n",
       "  </tbody>\n",
       "</table>\n",
       "<p>12000 rows × 11 columns</p>\n",
       "</div>"
      ],
      "text/plain": [
       "       Irradiance  Ambient_Temperature  Sun_Azimuth  Sun_Elevation  \\\n",
       "0             713                  3.8        -71.3           19.8   \n",
       "1             152                  2.7        -28.2           11.7   \n",
       "2              75                  4.5        -49.6           23.1   \n",
       "3             379                 17.7        -46.3           45.3   \n",
       "4             453                 14.2       -107.2           15.9   \n",
       "...           ...                  ...          ...            ...   \n",
       "11995          62                 10.2        -17.2           13.3   \n",
       "11996         114                 14.8        -17.4           33.2   \n",
       "11997         144                  6.1         41.2            6.4   \n",
       "11998         486                  9.6         56.1           14.8   \n",
       "11999         103                 13.0        -29.1           18.9   \n",
       "\n",
       "       System_Power  System_Age  System_Status  Healthy  Short_Circuit  \\\n",
       "0       5000.000000    0.073277              0        1              0   \n",
       "1       1290.467722    3.731482              0        1              0   \n",
       "2        366.571466    0.236534              0        1              0   \n",
       "3       2261.488687    1.720781              0        1              0   \n",
       "4       2616.082381    0.674352              0        1              0   \n",
       "...             ...         ...            ...      ...            ...   \n",
       "11995    118.293683   13.476348              1        0              0   \n",
       "11996    253.335320    4.542954              1        0              0   \n",
       "11997    526.328072   14.553955              1        0              0   \n",
       "11998   1707.208551    6.610661              1        0              0   \n",
       "11999    201.616715   22.294729              1        0              0   \n",
       "\n",
       "       Broken_Cells  Broken_Strings  \n",
       "0                 0               0  \n",
       "1                 0               0  \n",
       "2                 0               0  \n",
       "3                 0               0  \n",
       "4                 0               0  \n",
       "...             ...             ...  \n",
       "11995             0               1  \n",
       "11996             0               1  \n",
       "11997             0               1  \n",
       "11998             0               1  \n",
       "11999             0               1  \n",
       "\n",
       "[12000 rows x 11 columns]"
      ]
     },
     "execution_count": 9,
     "metadata": {},
     "output_type": "execute_result"
    }
   ],
   "source": [
    "# Dataset transformation using one-hot encoding for multi-class classification\n",
    "\n",
    "data = data_orig.drop('Fault_Type', axis=1) # remove the ordinary encoding column\n",
    "data['Healthy'] = np.where(data_orig['Fault_Type'] == 0, 1, 0)\n",
    "data['Short_Circuit'] = np.where(data_orig['Fault_Type'] == 1, 1, 0)\n",
    "data['Broken_Cells'] = np.where(data_orig['Fault_Type'] == 2, 1, 0)\n",
    "data['Broken_Strings'] = np.where(data_orig['Fault_Type'] == 3, 1, 0)\n",
    "data"
   ]
  },
  {
   "cell_type": "code",
   "execution_count": 10,
   "id": "5302be9f",
   "metadata": {},
   "outputs": [
    {
     "name": "stdout",
     "output_type": "stream",
     "text": [
      "Dataset dimention:  (12000, 11)\n",
      "Noo missing values\n"
     ]
    }
   ],
   "source": [
    "print('Dataset dimention: ', data.shape)\n",
    "if data.isnull().values.any():\n",
    "    print('Some values are missing')\n",
    "else:\n",
    "    print('Noo missing values')"
   ]
  },
  {
   "cell_type": "code",
   "execution_count": 11,
   "id": "58aa61ca",
   "metadata": {},
   "outputs": [],
   "source": [
    "y_mc_1d=data_orig.iloc[:,7]\n",
    "y_mc_train1d,y_mc_test1d = train_test_split(y_mc_1d, test_size=0.15, random_state=4720)"
   ]
  },
  {
   "cell_type": "code",
   "execution_count": 12,
   "id": "82c0b62e",
   "metadata": {},
   "outputs": [],
   "source": [
    "# Training-testing sets split: from now on the testing set must not be part of any operation, in order to prevent data leak\n",
    "\n",
    "training_set, testing_set = train_test_split(data, test_size=0.15, random_state=4720)\n",
    "\n",
    "X_training = training_set[['Irradiance', 'Ambient_Temperature', 'Sun_Azimuth', 'Sun_Elevation', \n",
    "                              'System_Power', 'System_Age']]\n",
    "y_2c_training = training_set['System_Status']\n",
    "y_mc_training = training_set[['Healthy', 'Short_Circuit', 'Broken_Cells', 'Broken_Strings']]\n",
    "\n",
    "X_test = testing_set[['Irradiance', 'Ambient_Temperature', 'Sun_Azimuth', 'Sun_Elevation', \n",
    "                              'System_Power', 'System_Age']]\n",
    "y_2c_test = testing_set['System_Status']\n",
    "y_mc_test = testing_set[['Healthy', 'Short_Circuit', 'Broken_Cells', 'Broken_Strings']]"
   ]
  },
  {
   "cell_type": "code",
   "execution_count": 13,
   "id": "a645ba2b",
   "metadata": {},
   "outputs": [],
   "source": [
    "#training_set"
   ]
  },
  {
   "cell_type": "code",
   "execution_count": 14,
   "id": "195bfc2b",
   "metadata": {
    "scrolled": false
   },
   "outputs": [],
   "source": [
    "#testing_set"
   ]
  },
  {
   "cell_type": "code",
   "execution_count": 15,
   "id": "3edf8194",
   "metadata": {},
   "outputs": [
    {
     "data": {
      "image/png": "[encoded data removed]",
      "text/plain": [
       "<Figure size 432x288 with 2 Axes>"
      ]
     },
     "metadata": {
      "needs_background": "light"
     },
     "output_type": "display_data"
    }
   ],
   "source": [
    "# Correlation matrix\n",
    "corr_matrix = X_training.corr()\n",
    "sn.heatmap(corr_matrix)\n",
    "plt.show()"
   ]
  },
  {
   "cell_type": "code",
   "execution_count": 16,
   "id": "9ebf5f94",
   "metadata": {},
   "outputs": [],
   "source": [
    "# Scaling of the features\n",
    "\n",
    "scaler = StandardScaler()\n",
    "scaler.fit(X_training)\n",
    "X_training_scaled = scaler.transform(X_training)"
   ]
  },
  {
   "cell_type": "markdown",
   "id": "25a4227e",
   "metadata": {},
   "source": [
    "# Multi Classification Model 1"
   ]
  },
  {
   "cell_type": "code",
   "execution_count": 72,
   "id": "1bfbd894",
   "metadata": {},
   "outputs": [
    {
     "name": "stdout",
     "output_type": "stream",
     "text": [
      "Accuracy: 0.6215686274509804\n",
      "Accuracy pol: 0.7503267973856209\n"
     ]
    },
    {
     "name": "stderr",
     "output_type": "stream",
     "text": [
      "c:\\Users\\User\\AppData\\Local\\Programs\\Python\\Python310\\lib\\site-packages\\sklearn\\linear_model\\_logistic.py:814: ConvergenceWarning: lbfgs failed to converge (status=1):\n",
      "STOP: TOTAL NO. of ITERATIONS REACHED LIMIT.\n",
      "\n",
      "Increase the number of iterations (max_iter) or scale the data as shown in:\n",
      "    https://scikit-learn.org/stable/modules/preprocessing.html\n",
      "Please also refer to the documentation for alternative solver options:\n",
      "    https://scikit-learn.org/stable/modules/linear_model.html#logistic-regression\n",
      "  n_iter_i = _check_optimize_result(\n"
     ]
    }
   ],
   "source": [
    "X_train, X_val, y_train_mc, y_val_mc = train_test_split(X_training_scaled, y_mc_train1d, test_size=0.15, random_state=4720)\n",
    "from sklearn.preprocessing import PolynomialFeatures\n",
    "pol = PolynomialFeatures(degree=3)\n",
    "pol.fit(X_train)\n",
    "X_train_pol = pol.transform(X_train)\n",
    "X_val_pol = pol.transform(X_val)\n",
    "lr = LogisticRegression(multi_class='multinomial',max_iter=1000)\n",
    "y_pred = lr.fit(X_train, y_train_mc).predict(X_val)\n",
    "print(\"Accuracy:\", accuracy_score(y_val_mc, y_pred))\n",
    "lr_pol = LogisticRegression(multi_class='multinomial',max_iter=1000)\n",
    "y_pred_pol = lr_pol.fit(X_train_pol, y_train_mc).predict(X_val_pol)\n",
    "print(\"Accuracy pol:\", accuracy_score(y_val_mc, y_pred_pol))"
   ]
  },
  {
   "cell_type": "code",
   "execution_count": 20,
   "id": "d05c5d8a",
   "metadata": {},
   "outputs": [
    {
     "name": "stdout",
     "output_type": "stream",
     "text": [
      "Accuracy: 0.711764705882353\n"
     ]
    }
   ],
   "source": [
    "rfc = RandomForestClassifier(n_estimators=90)\n",
    "y_pred = rfc.fit(X_train, y_train_mc).predict(X_val)\n",
    "print(\"Accuracy:\", accuracy_score(y_val_mc, y_pred))   #meglio linear"
   ]
  },
  {
   "cell_type": "markdown",
   "id": "3be14bf1",
   "metadata": {},
   "source": [
    "don't run it's heavy"
   ]
  },
  {
   "cell_type": "code",
   "execution_count": 69,
   "id": "19cc11db",
   "metadata": {},
   "outputs": [
    {
     "name": "stdout",
     "output_type": "stream",
     "text": [
      "Accuracy: 0.7666666666666667\n"
     ]
    }
   ],
   "source": [
    "bag = BaggingClassifier(base_estimator=svm.SVC(kernel='rbf',C=700, coef0=0.0, tol=1e-3),n_estimators=10, random_state=0)\n",
    "y_pred = bag.fit(X_train, y_train_mc).predict(X_val)\n",
    "print(\"Accuracy:\", accuracy_score(y_val_mc, y_pred))"
   ]
  },
  {
   "cell_type": "code",
   "execution_count": 21,
   "id": "2b5352f0",
   "metadata": {},
   "outputs": [],
   "source": [
    "clf_svmgauss = svm.SVC(kernel='rbf',C=700).fit(X_train, y_train_mc)\n",
    "y_prediction_svmguass = clf_svmgauss.predict(X_val)"
   ]
  },
  {
   "cell_type": "code",
   "execution_count": 22,
   "id": "64585ed3",
   "metadata": {},
   "outputs": [
    {
     "name": "stdout",
     "output_type": "stream",
     "text": [
      "Accuracy with linear features: 0.7797385620915033\n"
     ]
    }
   ],
   "source": [
    "Accuracy_svmG = accuracy_score(y_val_mc,y_prediction_svmguass)\n",
    "print(\"Accuracy with linear features: \" + str(Accuracy_svmG))"
   ]
  },
  {
   "cell_type": "markdown",
   "id": "3c5196f1",
   "metadata": {},
   "source": [
    "# Multi Classification Model 2"
   ]
  },
  {
   "cell_type": "code",
   "execution_count": 67,
   "id": "f331281a",
   "metadata": {},
   "outputs": [
    {
     "name": "stderr",
     "output_type": "stream",
     "text": [
      "c:\\Users\\User\\AppData\\Local\\Programs\\Python\\Python310\\lib\\site-packages\\sklearn\\neural_network\\_multilayer_perceptron.py:692: ConvergenceWarning: Stochastic Optimizer: Maximum iterations (200) reached and the optimization hasn't converged yet.\n",
      "  warnings.warn(\n"
     ]
    },
    {
     "name": "stdout",
     "output_type": "stream",
     "text": [
      "Accuracy with polynomial features: 0.7888888888888889\n",
      "Accuracy with linear features: 0.696078431372549\n"
     ]
    },
    {
     "name": "stderr",
     "output_type": "stream",
     "text": [
      "c:\\Users\\User\\AppData\\Local\\Programs\\Python\\Python310\\lib\\site-packages\\sklearn\\neural_network\\_multilayer_perceptron.py:692: ConvergenceWarning: Stochastic Optimizer: Maximum iterations (200) reached and the optimization hasn't converged yet.\n",
      "  warnings.warn(\n"
     ]
    }
   ],
   "source": [
    "from sklearn.neural_network import MLPClassifier\n",
    "\n",
    "FF_NN = MLPClassifier(hidden_layer_sizes=(X_train_pol.shape[1], 3), activation='relu', solver='adam', max_iter=200, shuffle=True, random_state=1, tol=0.0001, verbose=False, early_stopping=False, validation_fraction=0.1)\n",
    "y_pred = FF_NN.fit(X_train_pol, y_train_mc).predict(X_val_pol)\n",
    "print(\"Accuracy with polynomial features:\", accuracy_score(y_val_mc, y_pred))\n",
    "\n",
    "FF_NN = MLPClassifier(hidden_layer_sizes=(X_train.shape[1], 5), activation='relu', solver='adam', max_iter=200, shuffle=True, random_state=1, tol=0.0001, verbose=False, early_stopping=False, validation_fraction=0.1)\n",
    "y_pred = FF_NN.fit(X_train, y_train_mc).predict(X_val)\n",
    "print(\"Accuracy with linear features:\", accuracy_score(y_val_mc, y_pred))"
   ]
  },
  {
   "cell_type": "code",
   "execution_count": 25,
   "id": "d913652b",
   "metadata": {},
   "outputs": [],
   "source": [
    "from keras.models import Sequential\n",
    "from keras.layers import Dense\n",
    "from keras.utils import np_utils"
   ]
  },
  {
   "cell_type": "code",
   "execution_count": 88,
   "id": "53a557d8",
   "metadata": {},
   "outputs": [],
   "source": [
    "# define baseline model\n",
    "\n",
    "def baseline_model(layers,nodes):\n",
    "\t# create model 1 hidden layer with 8 nodes\n",
    "    #nodes=8\n",
    "    input_node=6\n",
    "    output_node=4\n",
    "    model = Sequential()\n",
    "    model.add(Dense(nodes[0], input_dim=input_node, activation='relu'))\n",
    "    for i in range(1,layers):\n",
    "        model.add(Dense(nodes[i], activation='relu'))\n",
    "    model.add(Dense(output_node, activation='softmax'))    #activation='softmax' for muticlass\n",
    "\t# Compile mode\n",
    "    model.compile(loss='categorical_crossentropy', optimizer='adam', metrics=['accuracy'])\n",
    "    return model"
   ]
  },
  {
   "cell_type": "code",
   "execution_count": 89,
   "id": "30af546c",
   "metadata": {},
   "outputs": [],
   "source": [
    "layers=4\n",
    "nodes=[6,6,5,4]\n",
    "model=baseline_model(layers,nodes)\n",
    "#visualize_nn(model, description=True, figsize=(10,8))"
   ]
  },
  {
   "cell_type": "code",
   "execution_count": 29,
   "id": "d6f52c74",
   "metadata": {},
   "outputs": [
    {
     "name": "stdout",
     "output_type": "stream",
     "text": [
      "[[1. 0. 0. 0.]\n",
      " [0. 0. 0. 1.]\n",
      " [0. 0. 0. 1.]\n",
      " ...\n",
      " [1. 0. 0. 0.]\n",
      " [0. 0. 0. 1.]\n",
      " [1. 0. 0. 0.]]\n"
     ]
    }
   ],
   "source": [
    "# work with labels\n",
    "# encode class values as integers\n",
    "encoder = LabelEncoder()\n",
    "encoder.fit(y_val_mc)\n",
    "encoded_Y = encoder.transform(y_val_mc)\n",
    "# convert integers to dummy variables (i.e. one hot encoded)\n",
    "dummy_y_val = np_utils.to_categorical(encoded_Y)\n",
    "print(dummy_y_val)"
   ]
  },
  {
   "cell_type": "code",
   "execution_count": 30,
   "id": "10af7d95",
   "metadata": {},
   "outputs": [
    {
     "name": "stdout",
     "output_type": "stream",
     "text": [
      "[[1. 0. 0. 0.]\n",
      " [1. 0. 0. 0.]\n",
      " [1. 0. 0. 0.]\n",
      " ...\n",
      " [1. 0. 0. 0.]\n",
      " [1. 0. 0. 0.]\n",
      " [0. 0. 0. 1.]]\n"
     ]
    }
   ],
   "source": [
    "# work with labels\n",
    "# encode class values as integers\n",
    "encoder = LabelEncoder()\n",
    "encoder.fit(y_train_mc)\n",
    "encoded_Y = encoder.transform(y_train_mc)\n",
    "# convert integers to dummy variables (i.e. one hot encoded)\n",
    "dummy_y_train = np_utils.to_categorical(encoded_Y)\n",
    "print(dummy_y_train)"
   ]
  },
  {
   "cell_type": "code",
   "execution_count": 126,
   "id": "def73273",
   "metadata": {},
   "outputs": [
    {
     "name": "stdout",
     "output_type": "stream",
     "text": [
      "Epoch 1/100\n",
      "867/867 [==============================] - 3s 3ms/step - loss: 0.4728 - accuracy: 0.7962\n",
      "Epoch 2/100\n",
      "867/867 [==============================] - 2s 3ms/step - loss: 0.4703 - accuracy: 0.7990\n",
      "Epoch 3/100\n",
      "867/867 [==============================] - 3s 3ms/step - loss: 0.4746 - accuracy: 0.7963\n",
      "Epoch 4/100\n",
      "867/867 [==============================] - 3s 3ms/step - loss: 0.4750 - accuracy: 0.7963\n",
      "Epoch 5/100\n",
      "867/867 [==============================] - 2s 3ms/step - loss: 0.4775 - accuracy: 0.7937\n",
      "Epoch 6/100\n",
      "867/867 [==============================] - 2s 3ms/step - loss: 0.4732 - accuracy: 0.7979\n",
      "Epoch 7/100\n",
      "867/867 [==============================] - 2s 3ms/step - loss: 0.4705 - accuracy: 0.7993\n",
      "Epoch 8/100\n",
      "867/867 [==============================] - 3s 3ms/step - loss: 0.4768 - accuracy: 0.7961\n",
      "Epoch 9/100\n",
      "867/867 [==============================] - 3s 3ms/step - loss: 0.4770 - accuracy: 0.7984\n",
      "Epoch 10/100\n",
      "867/867 [==============================] - 2s 3ms/step - loss: 0.4692 - accuracy: 0.8000\n",
      "Epoch 11/100\n",
      "867/867 [==============================] - 3s 3ms/step - loss: 0.4716 - accuracy: 0.7983\n",
      "Epoch 12/100\n",
      "867/867 [==============================] - 3s 3ms/step - loss: 0.4742 - accuracy: 0.7998\n",
      "Epoch 13/100\n",
      "867/867 [==============================] - 3s 3ms/step - loss: 0.4729 - accuracy: 0.7980\n",
      "Epoch 14/100\n",
      "867/867 [==============================] - 3s 3ms/step - loss: 0.4695 - accuracy: 0.7982\n",
      "Epoch 15/100\n",
      "867/867 [==============================] - 2s 3ms/step - loss: 0.4718 - accuracy: 0.7963\n",
      "Epoch 16/100\n",
      "867/867 [==============================] - 2s 3ms/step - loss: 0.4718 - accuracy: 0.7961\n",
      "Epoch 17/100\n",
      "867/867 [==============================] - 3s 3ms/step - loss: 0.4748 - accuracy: 0.8002\n",
      "Epoch 18/100\n",
      "867/867 [==============================] - 2s 3ms/step - loss: 0.4700 - accuracy: 0.7984\n",
      "Epoch 19/100\n",
      "867/867 [==============================] - 2s 3ms/step - loss: 0.4677 - accuracy: 0.7973\n",
      "Epoch 20/100\n",
      "867/867 [==============================] - 2s 3ms/step - loss: 0.4676 - accuracy: 0.8006\n",
      "Epoch 21/100\n",
      "867/867 [==============================] - 3s 3ms/step - loss: 0.4732 - accuracy: 0.7960\n",
      "Epoch 22/100\n",
      "867/867 [==============================] - 2s 3ms/step - loss: 0.4685 - accuracy: 0.7998\n",
      "Epoch 23/100\n",
      "867/867 [==============================] - 2s 3ms/step - loss: 0.4687 - accuracy: 0.7992\n",
      "Epoch 24/100\n",
      "867/867 [==============================] - 2s 3ms/step - loss: 0.4717 - accuracy: 0.7986\n",
      "Epoch 25/100\n",
      "867/867 [==============================] - 3s 3ms/step - loss: 0.4685 - accuracy: 0.7990\n",
      "Epoch 26/100\n",
      "867/867 [==============================] - 2s 3ms/step - loss: 0.4736 - accuracy: 0.7961\n",
      "Epoch 27/100\n",
      "867/867 [==============================] - 2s 3ms/step - loss: 0.4712 - accuracy: 0.7993\n",
      "Epoch 28/100\n",
      "867/867 [==============================] - 3s 3ms/step - loss: 0.4869 - accuracy: 0.7912\n",
      "Epoch 29/100\n",
      "867/867 [==============================] - 3s 3ms/step - loss: 0.4718 - accuracy: 0.7967\n",
      "Epoch 30/100\n",
      "867/867 [==============================] - 3s 3ms/step - loss: 0.4701 - accuracy: 0.8009\n",
      "Epoch 31/100\n",
      "867/867 [==============================] - 3s 3ms/step - loss: 0.4672 - accuracy: 0.8007\n",
      "Epoch 32/100\n",
      "867/867 [==============================] - 3s 3ms/step - loss: 0.4661 - accuracy: 0.7988\n",
      "Epoch 33/100\n",
      "867/867 [==============================] - 3s 3ms/step - loss: 0.4697 - accuracy: 0.7993\n",
      "Epoch 34/100\n",
      "867/867 [==============================] - 2s 3ms/step - loss: 0.4703 - accuracy: 0.8003\n",
      "Epoch 35/100\n",
      "867/867 [==============================] - 2s 3ms/step - loss: 0.4708 - accuracy: 0.7969\n",
      "Epoch 36/100\n",
      "867/867 [==============================] - 2s 3ms/step - loss: 0.4787 - accuracy: 0.7955\n",
      "Epoch 37/100\n",
      "867/867 [==============================] - 2s 3ms/step - loss: 0.4688 - accuracy: 0.7988\n",
      "Epoch 38/100\n",
      "867/867 [==============================] - 2s 3ms/step - loss: 0.4662 - accuracy: 0.8000\n",
      "Epoch 39/100\n",
      "867/867 [==============================] - 2s 3ms/step - loss: 0.4681 - accuracy: 0.7986\n",
      "Epoch 40/100\n",
      "867/867 [==============================] - 2s 3ms/step - loss: 0.4762 - accuracy: 0.7977\n",
      "Epoch 41/100\n",
      "867/867 [==============================] - 2s 3ms/step - loss: 0.4676 - accuracy: 0.8012\n",
      "Epoch 42/100\n",
      "867/867 [==============================] - 2s 3ms/step - loss: 0.4693 - accuracy: 0.7963\n",
      "Epoch 43/100\n",
      "867/867 [==============================] - 2s 3ms/step - loss: 0.4687 - accuracy: 0.8006\n",
      "Epoch 44/100\n",
      "867/867 [==============================] - 2s 3ms/step - loss: 0.4711 - accuracy: 0.7953\n",
      "Epoch 45/100\n",
      "867/867 [==============================] - 2s 3ms/step - loss: 0.4737 - accuracy: 0.7958\n",
      "Epoch 46/100\n",
      "867/867 [==============================] - 2s 3ms/step - loss: 0.4732 - accuracy: 0.7963\n",
      "Epoch 47/100\n",
      "867/867 [==============================] - 2s 3ms/step - loss: 0.4717 - accuracy: 0.7993\n",
      "Epoch 48/100\n",
      "867/867 [==============================] - 2s 3ms/step - loss: 0.4664 - accuracy: 0.8009\n",
      "Epoch 49/100\n",
      "867/867 [==============================] - 2s 3ms/step - loss: 0.4704 - accuracy: 0.7999\n",
      "Epoch 50/100\n",
      "867/867 [==============================] - 2s 3ms/step - loss: 0.4655 - accuracy: 0.7984\n",
      "Epoch 51/100\n",
      "867/867 [==============================] - 2s 3ms/step - loss: 0.4700 - accuracy: 0.7997\n",
      "Epoch 52/100\n",
      "867/867 [==============================] - 2s 3ms/step - loss: 0.4681 - accuracy: 0.7982\n",
      "Epoch 53/100\n",
      "867/867 [==============================] - 2s 3ms/step - loss: 0.4669 - accuracy: 0.8023\n",
      "Epoch 54/100\n",
      "867/867 [==============================] - 2s 3ms/step - loss: 0.4685 - accuracy: 0.7968\n",
      "Epoch 55/100\n",
      "867/867 [==============================] - 2s 3ms/step - loss: 0.4758 - accuracy: 0.7990\n",
      "Epoch 56/100\n",
      "867/867 [==============================] - 2s 3ms/step - loss: 0.4687 - accuracy: 0.7968\n",
      "Epoch 57/100\n",
      "867/867 [==============================] - 2s 3ms/step - loss: 0.4724 - accuracy: 0.7976\n",
      "Epoch 58/100\n",
      "867/867 [==============================] - 2s 3ms/step - loss: 0.4705 - accuracy: 0.7998\n",
      "Epoch 59/100\n",
      "867/867 [==============================] - 2s 3ms/step - loss: 0.4708 - accuracy: 0.7938\n",
      "Epoch 60/100\n",
      "867/867 [==============================] - 2s 3ms/step - loss: 0.4658 - accuracy: 0.7995\n",
      "Epoch 61/100\n",
      "867/867 [==============================] - 2s 3ms/step - loss: 0.4681 - accuracy: 0.8016\n",
      "Epoch 62/100\n",
      "867/867 [==============================] - 2s 3ms/step - loss: 0.4744 - accuracy: 0.7975\n",
      "Epoch 63/100\n",
      "867/867 [==============================] - 2s 3ms/step - loss: 0.4713 - accuracy: 0.7987\n",
      "Epoch 64/100\n",
      "867/867 [==============================] - 2s 3ms/step - loss: 0.4717 - accuracy: 0.8001\n",
      "Epoch 65/100\n",
      "867/867 [==============================] - 2s 3ms/step - loss: 0.4729 - accuracy: 0.7968\n",
      "Epoch 66/100\n",
      "867/867 [==============================] - 2s 3ms/step - loss: 0.4738 - accuracy: 0.7973\n",
      "Epoch 67/100\n",
      "867/867 [==============================] - 3s 3ms/step - loss: 0.4659 - accuracy: 0.8018\n",
      "Epoch 68/100\n",
      "867/867 [==============================] - 2s 3ms/step - loss: 0.4724 - accuracy: 0.7980\n",
      "Epoch 69/100\n",
      "867/867 [==============================] - 2s 3ms/step - loss: 0.4702 - accuracy: 0.8018\n",
      "Epoch 70/100\n",
      "867/867 [==============================] - 3s 4ms/step - loss: 0.4831 - accuracy: 0.7941\n",
      "Epoch 71/100\n",
      "867/867 [==============================] - 3s 4ms/step - loss: 0.4708 - accuracy: 0.7995\n",
      "Epoch 72/100\n",
      "867/867 [==============================] - 3s 4ms/step - loss: 0.4720 - accuracy: 0.7942\n",
      "Epoch 73/100\n",
      "867/867 [==============================] - 3s 3ms/step - loss: 0.4645 - accuracy: 0.7997\n",
      "Epoch 74/100\n",
      "867/867 [==============================] - 3s 3ms/step - loss: 0.4729 - accuracy: 0.7953\n",
      "Epoch 75/100\n",
      "867/867 [==============================] - 3s 3ms/step - loss: 0.4682 - accuracy: 0.8002\n",
      "Epoch 76/100\n",
      "867/867 [==============================] - 3s 4ms/step - loss: 0.4683 - accuracy: 0.7950\n",
      "Epoch 77/100\n",
      "867/867 [==============================] - 3s 3ms/step - loss: 0.4700 - accuracy: 0.7982\n",
      "Epoch 78/100\n",
      "867/867 [==============================] - 3s 4ms/step - loss: 0.4697 - accuracy: 0.7979\n",
      "Epoch 79/100\n",
      "867/867 [==============================] - 3s 3ms/step - loss: 0.4659 - accuracy: 0.7993\n",
      "Epoch 80/100\n",
      "867/867 [==============================] - 3s 4ms/step - loss: 0.4726 - accuracy: 0.8005\n",
      "Epoch 81/100\n",
      "867/867 [==============================] - 3s 4ms/step - loss: 0.4708 - accuracy: 0.7984\n",
      "Epoch 82/100\n",
      "867/867 [==============================] - 4s 4ms/step - loss: 0.4705 - accuracy: 0.7999\n",
      "Epoch 83/100\n",
      "867/867 [==============================] - 3s 3ms/step - loss: 0.4706 - accuracy: 0.7988\n",
      "Epoch 84/100\n",
      "867/867 [==============================] - 3s 3ms/step - loss: 0.4692 - accuracy: 0.7997\n",
      "Epoch 85/100\n",
      "867/867 [==============================] - 3s 3ms/step - loss: 0.4683 - accuracy: 0.8012\n",
      "Epoch 86/100\n",
      "867/867 [==============================] - 3s 4ms/step - loss: 0.4675 - accuracy: 0.7990\n",
      "Epoch 87/100\n",
      "867/867 [==============================] - 3s 3ms/step - loss: 0.4683 - accuracy: 0.7984\n",
      "Epoch 88/100\n",
      "867/867 [==============================] - 3s 3ms/step - loss: 0.4701 - accuracy: 0.7973\n",
      "Epoch 89/100\n",
      "867/867 [==============================] - 2s 3ms/step - loss: 0.4705 - accuracy: 0.7987\n",
      "Epoch 90/100\n",
      "867/867 [==============================] - 3s 3ms/step - loss: 0.4666 - accuracy: 0.7997\n",
      "Epoch 91/100\n",
      "867/867 [==============================] - 4s 5ms/step - loss: 0.4716 - accuracy: 0.8006\n",
      "Epoch 92/100\n",
      "867/867 [==============================] - 3s 3ms/step - loss: 0.4705 - accuracy: 0.7973\n",
      "Epoch 93/100\n",
      "867/867 [==============================] - 2s 2ms/step - loss: 0.4695 - accuracy: 0.7961\n",
      "Epoch 94/100\n",
      "867/867 [==============================] - 2s 3ms/step - loss: 0.4670 - accuracy: 0.7991\n",
      "Epoch 95/100\n",
      "867/867 [==============================] - 2s 3ms/step - loss: 0.4662 - accuracy: 0.8012\n",
      "Epoch 96/100\n",
      "867/867 [==============================] - 3s 3ms/step - loss: 0.4672 - accuracy: 0.7978\n",
      "Epoch 97/100\n",
      "867/867 [==============================] - 2s 3ms/step - loss: 0.4673 - accuracy: 0.7986\n",
      "Epoch 98/100\n",
      "867/867 [==============================] - 2s 2ms/step - loss: 0.4741 - accuracy: 0.7953\n",
      "Epoch 99/100\n",
      "867/867 [==============================] - 2s 2ms/step - loss: 0.4672 - accuracy: 0.8010\n",
      "Epoch 100/100\n",
      "867/867 [==============================] - 2s 2ms/step - loss: 0.4662 - accuracy: 0.8007\n"
     ]
    }
   ],
   "source": [
    "history = model.fit(X_train, dummy_y_train, epochs=100, batch_size=10)"
   ]
  },
  {
   "cell_type": "code",
   "execution_count": 127,
   "id": "39be0550",
   "metadata": {},
   "outputs": [
    {
     "name": "stdout",
     "output_type": "stream",
     "text": [
      "[0 3 3 ... 0 3 0]\n",
      "Accuracy: 78.17\n"
     ]
    }
   ],
   "source": [
    "pred=model.predict(X_val)\n",
    "print(pred.argmax(axis=1))\n",
    "accuracy = accuracy_score(dummy_y_val.argmax(axis=1),pred.argmax(axis=1))\n",
    "print('Accuracy: %.2f' % (accuracy*100))"
   ]
  },
  {
   "cell_type": "code",
   "execution_count": 114,
   "id": "9f28b9a2",
   "metadata": {},
   "outputs": [
    {
     "name": "stdout",
     "output_type": "stream",
     "text": [
      "48/48 [==============================] - 0s 3ms/step - loss: 0.5108 - accuracy: 0.7817\n",
      "Accuracy: 78.17\n"
     ]
    }
   ],
   "source": [
    "# evaluate the keras model\n",
    "_,accuracy = model.evaluate(X_val, dummy_y_val)   \n",
    "print('Accuracy: %.2f' % (accuracy*100))"
   ]
  },
  {
   "cell_type": "code",
   "execution_count": 115,
   "id": "67785a3c",
   "metadata": {},
   "outputs": [
    {
     "data": {
      "text/plain": [
       "array([[678,  63,  23,   4],\n",
       "       [ 77, 165,   1,   7],\n",
       "       [ 93,  34, 113,  14],\n",
       "       [  1,   5,  12, 240]], dtype=int64)"
      ]
     },
     "execution_count": 115,
     "metadata": {},
     "output_type": "execute_result"
    }
   ],
   "source": [
    "y_mc_predict=model.predict(X_val,batch_size=10)\n",
    "matrix = confusion_matrix(dummy_y_val.argmax(axis=1), y_mc_predict.argmax(axis=1))\n",
    "matrix"
   ]
  }
 ],
 "metadata": {
  "kernelspec": {
   "display_name": "Python 3.10.2 64-bit",
   "language": "python",
   "name": "python3"
  },
  "language_info": {
   "codemirror_mode": {
    "name": "ipython",
    "version": 3
   },
   "file_extension": ".py",
   "mimetype": "text/x-python",
   "name": "python",
   "nbconvert_exporter": "python",
   "pygments_lexer": "ipython3",
   "version": "3.10.2"
  },
  "vscode": {
   "interpreter": {
    "hash": "afb734500600fd355917ca529030176ea0ca205570884b88f2f6f7d791fd3fbe"
   }
  }
 },
 "nbformat": 4,
 "nbformat_minor": 5
}
